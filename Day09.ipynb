{
 "cells": [
  {
   "attachments": {},
   "cell_type": "markdown",
   "metadata": {},
   "source": [
    "# 9th Day of Python 4 DIP\n",
    "\n",
    "> Contents:\n",
    "> 1. Derivation of images\n",
    "> 2. Edges and Edge detection\n",
    " \n",
    "\n",
    "Execute the cells to gain outputs"
   ]
  },
  {
   "cell_type": "code",
   "execution_count": null,
   "metadata": {
    "tags": []
   },
   "outputs": [],
   "source": [
    "import numpy as np\n",
    "import matplotlib.pyplot as plt\n",
    "import skimage as SK\n",
    "import time\n",
    "from Tools import *\n",
    "%matplotlib inline"
   ]
  },
  {
   "attachments": {},
   "cell_type": "markdown",
   "metadata": {},
   "source": [
    "### Derivation and Convolving them"
   ]
  },
  {
   "attachments": {},
   "cell_type": "markdown",
   "metadata": {},
   "source": [
    "#### The first calculation of Dx , Dy\n",
    "$$ \\Delta_x f = f(x,y) - f(x-1,y) $$\n",
    "$$ \\Delta_y f = f(x,y) - f(x,y-1) $$"
   ]
  },
  {
   "cell_type": "code",
   "execution_count": null,
   "metadata": {
    "tags": []
   },
   "outputs": [],
   "source": [
    "H_x = 0.5*np.array([[-1,1]])\n",
    "H_y = H_x.copy().T\n",
    "Camera = SK.io.imread(\"./Figures/cameraman.jpg\",as_gray=True)\n",
    "Dx_Camera = Convolution2D(Camera,H_x)\n",
    "Dy_Camera = Convolution2D(Camera,H_y)\n",
    "ShowTimeMul((Camera,Dx_Camera,Dy_Camera),With_Hist=False,Im_title=[\"Original\",\"Derivative x\",\"Derivative y\"],colorbar=False,cmaps=['gray']*3)"
   ]
  },
  {
   "attachments": {},
   "cell_type": "markdown",
   "metadata": {},
   "source": [
    "#### The first calculation of Dx , Dy\n",
    "$$ \\Delta_{2x} f = f(x+1,y) - f(x-1,y) $$\n",
    "$$ \\Delta_{2y} f = f(x,y+1) - f(x,y-1) $$"
   ]
  },
  {
   "cell_type": "code",
   "execution_count": null,
   "metadata": {
    "tags": []
   },
   "outputs": [],
   "source": [
    "H_x = 0.5*np.array([[-1,0,1]])\n",
    "H_y = H_x.copy().T\n",
    "Camera = SK.io.imread(\"./Figures/cameraman.jpg\",as_gray=True)\n",
    "Dx_Camera = Convolution2D(Camera,H_x)\n",
    "Dy_Camera = Convolution2D(Camera,H_y)\n",
    "Magnitude_Camera = (Dx_Camera**2 + Dy_Camera**2)**0.5\n",
    "Directions = np.arctan(Dy_Camera/Dx_Camera)\n",
    "ShowTimeMul((Camera,Dx_Camera,Dy_Camera),With_Hist=False,Im_title=[\"Original\",\"Derivative x\",\"Derivative y\"],colorbar=False,cmaps=['gray']*3)\n",
    "ShowTimeMul((Magnitude_Camera,Directions),With_Hist=False,Im_title=[\"Magnitude\",\"Directions\"],colorbar=False,cmaps=['gray','hsv'])"
   ]
  },
  {
   "attachments": {},
   "cell_type": "markdown",
   "metadata": {},
   "source": [
    "### Using Scikit-image for derivative"
   ]
  },
  {
   "cell_type": "code",
   "execution_count": null,
   "metadata": {
    "tags": []
   },
   "outputs": [],
   "source": [
    "Sobel_h = SK.filters.sobel_h(Camera)\n",
    "Sobel_v = SK.filters.sobel_v(Camera)\n",
    "Prewitt_h = SK.filters.prewitt_h(Camera)\n",
    "Prewitt_v = SK.filters.prewitt_v(Camera)\n",
    "Schar_h = SK.filters.scharr_h(Camera)\n",
    "Schar_v = SK.filters.scharr_v(Camera)\n",
    "Farid_h = SK.filters.farid_h(Camera)\n",
    "Farid_v = SK.filters.farid_v(Camera)\n",
    "ShowTimeMul((Sobel_h,Sobel_v),With_Hist=False,Im_title=[\"Horizontal Sobel\",\"Vertical Sobel\"],colorbar=False,cmaps=['gray']*2)\n",
    "ShowTimeMul((Prewitt_h,Prewitt_v),With_Hist=False,Im_title=[\"Horizontal Prewitt\",\"Vertical Prewitt\"],colorbar=False,cmaps=['gray']*2)\n",
    "ShowTimeMul((Schar_h,Schar_v),With_Hist=False,Im_title=[\"Horizontal Scharr\",\"Vertical Scharr\"],colorbar=False,cmaps=['gray']*2)\n",
    "ShowTimeMul((Farid_h,Farid_v),With_Hist=False,Im_title=[\"Horizontal Farid\",\"Vertical Farid\"],colorbar=False,cmaps=['gray']*2)\n"
   ]
  },
  {
   "attachments": {},
   "cell_type": "markdown",
   "metadata": {},
   "source": [
    "### Sharpening with Laplacian"
   ]
  },
  {
   "attachments": {},
   "cell_type": "markdown",
   "metadata": {},
   "source": [
    "$$\\Delta_1 = \\begin{bmatrix} 0 & -1 & 0\\\\-1 & 4 & -1\\\\0&-1&0\\end{bmatrix}$$\n",
    "$$\\Delta_2 = \\begin{bmatrix} -1 & -1 & -1\\\\-1 & 8 & -1\\\\-1&-1&-1\\end{bmatrix}$$"
   ]
  },
  {
   "cell_type": "code",
   "execution_count": null,
   "metadata": {
    "tags": []
   },
   "outputs": [],
   "source": [
    "Laplacian1 = np.array([[0,-1,0],[-1,4,-1],[0,-1,0]])\n",
    "Laplacian2 = np.array([[-1,-1,-1],[-1,8,-1],[-1,-1,-1]])\n",
    "D2_Camera = FastConv2D(Camera,Laplacian1)\n",
    "D2_Camera2 = FastConv2D(Camera,Laplacian2)\n",
    "Sharpened1 = np.clip(Camera + D2_Camera,0,1)\n",
    "Sharpened2 = np.clip(D2_Camera2 + Camera,0,1)\n",
    "ShowTimeMul((Camera,Sharpened1,Sharpened2),With_Hist=False,Im_title=[\"Original\",\"Sharped 1\",\"Sharpened 2\"],colorbar=False,cmaps=['gray']*3)\n"
   ]
  },
  {
   "attachments": {},
   "cell_type": "markdown",
   "metadata": {},
   "source": [
    "### Effect of Noise at Derivations"
   ]
  },
  {
   "cell_type": "code",
   "execution_count": null,
   "metadata": {
    "tags": []
   },
   "outputs": [],
   "source": [
    "Index = 5\n",
    "F = Camera[Index,:]\n",
    "DF = Sobel_v[Index,:]\n",
    "Noise = SK.util.noise.random_noise(Camera,mode='s&p',seed=1000,salt_vs_pepper=0.2)\n",
    "DNoise = SK.filters.sobel_v(Noise)[Index,:]\n",
    "\n",
    "ShowTimeMul((Camera,Noise),With_Hist=False,Im_title=[\"Original\",\"Noised\"],colorbar=False,cmaps=['gray']*2)\n",
    "fig,ax = plt.subplots(nrows=1,ncols=2,figsize=(10,5))\n",
    "ax[0].plot(range(F.shape[0]),F,label=\"Signal\")\n",
    "ax[0].plot(range(F.shape[0]),DF,label=\"Dx\")\n",
    "ax[0].legend()\n",
    "\n",
    "ax[1].plot(range(F.shape[0]),Noise[Index,:],label=\"Noised Signal\")\n",
    "ax[1].plot(range(F.shape[0]),DNoise,label=\"Dx Noised\")\n",
    "ax[1].legend()"
   ]
  },
  {
   "attachments": {},
   "cell_type": "markdown",
   "metadata": {},
   "source": [
    "### Edge detection with Scikit-Image"
   ]
  },
  {
   "cell_type": "code",
   "execution_count": null,
   "metadata": {
    "tags": []
   },
   "outputs": [],
   "source": [
    "X,Y = np.mgrid[-10:10:255j,-10:10:255j]\n",
    "Image = np.cos(X**2+Y**2)\n",
    "Dx_Image = -2*X*np.sin(X**2+Y**2)\n",
    "Dy_Image = -2*Y*np.sin(X**2+Y**2)\n",
    "angles = lambda x,y:  np.mod(np.arctan(y,x),np.pi)\n",
    "Angles = angles(Dx_Image,Dy_Image)\n",
    "ShowTimeMul((Image,Angles),With_Hist=False,Im_title=[\"Image\",\"Angles\"],colorbar=False,cmaps=['gray','hsv'])"
   ]
  },
  {
   "cell_type": "code",
   "execution_count": null,
   "metadata": {
    "tags": []
   },
   "outputs": [],
   "source": [
    "Sobel_Image = SK.filters.sobel(Image)\n",
    "Scharr_Image = SK.filters.scharr(Image)\n",
    "ShowTimeMul((Sobel_Image,Scharr_Image),With_Hist=False,Im_title=[\"Sobel\",\"Scharr\"],cmaps=['gray']*2,colorbar=False)"
   ]
  },
  {
   "cell_type": "code",
   "execution_count": null,
   "metadata": {
    "tags": []
   },
   "outputs": [],
   "source": [
    "Angles_Sobel = angles(SK.filters.sobel_h(Image),SK.filters.sobel_v(Image))\n",
    "Angles_Scharr = angles(SK.filters.scharr_h(Image),SK.filters.scharr_v(Image))\n",
    "\n",
    "ShowTimeMul((Angles_Sobel,Angles_Scharr),With_Hist=False,Im_title=[\"Angles Sobel\",\"Angles Scharr\"],colorbar=False,cmaps=['hsv']*2)"
   ]
  },
  {
   "cell_type": "code",
   "execution_count": null,
   "metadata": {
    "tags": []
   },
   "outputs": [],
   "source": [
    "Diff_Sobel = np.minimum(np.pi - np.abs(Angles - Angles_Sobel),np.abs(Angles - Angles_Sobel))\n",
    "Diff_Scharr = np.minimum(np.pi - np.abs(Angles - Angles_Scharr),np.abs(Angles - Angles_Scharr))\n",
    "ShowTimeMul((Diff_Sobel,Diff_Scharr),With_Hist=False,Im_title=[\"Diffs Sobel\",\"Diffs Scharr\"],figsize=(10,10),colorbar=True,cmaps=['inferno']*2)"
   ]
  }
 ],
 "metadata": {
  "kernelspec": {
   "display_name": "Python 3 (ipykernel)",
   "language": "python",
   "name": "python3"
  },
  "language_info": {
   "codemirror_mode": {
    "name": "ipython",
    "version": 3
   },
   "file_extension": ".py",
   "mimetype": "text/x-python",
   "name": "python",
   "nbconvert_exporter": "python",
   "pygments_lexer": "ipython3",
   "version": "3.11.3"
  }
 },
 "nbformat": 4,
 "nbformat_minor": 4
}
