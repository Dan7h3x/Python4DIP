{
 "cells": [
  {
   "attachments": {},
   "cell_type": "markdown",
   "metadata": {},
   "source": [
    "# Sixth Day of Python 4 DIP\n",
    "\n",
    "> Contents:\n",
    "> 1. Scikit-Image introduction\n",
    "> 2. Point evaluations of images with Scikit-Image\n",
    "\n",
    "Execute the cells to gain outputs\n"
   ]
  },
  {
   "cell_type": "code",
   "execution_count": null,
   "metadata": {
    "tags": []
   },
   "outputs": [],
   "source": [
    "import numpy as np\n",
    "import matplotlib.pyplot as plt\n",
    "from mpl_toolkits.axes_grid1.axes_divider import make_axes_locatable\n",
    "import skimage as SK\n",
    "plt.rcParams['font.size'] = 11\n",
    "%matplotlib inline"
   ]
  },
  {
   "cell_type": "code",
   "execution_count": null,
   "metadata": {
    "tags": []
   },
   "outputs": [],
   "source": [
    "def ShowTime(Image,figsize=(12,7),bins=32,Im_title=\"Image\",With_Hist=False,His_title=\"Histogram\",Save=False,Save_Name=\"Day06\",format='png',cmap='gray',colorbar=True):\n",
    "    \"\"\"\n",
    "    Awesome Image shower with histogram subplot\n",
    "    With capability of saving Output as any format like {'png','pdf','eps',...}\n",
    "    \"\"\"\n",
    "    if With_Hist:\n",
    "            fig,ax = plt.subplots(figsize=figsize,nrows=1,ncols=2)\n",
    "            fig.subplots_adjust(wspace=0.2)\n",
    "            a = ax[0].imshow(Image,cmap=cmap)\n",
    "            Loc = make_axes_locatable(ax[0])\n",
    "            Cax = Loc.append_axes(\"bottom\",size=\"5%\",pad=\"2%\")\n",
    "            ax[0].set_title(Im_title)\n",
    "            ax[0].axis('off')\n",
    "            if colorbar:\n",
    "                 fig.colorbar(a,cax=Cax,shrink=0.9,orientation=\"horizontal\")\n",
    "\n",
    "\n",
    "            Hist,Bins = np.histogram(Image.ravel(),bins=range(bins))\n",
    "            ax[1].bar(Bins[:-1],Hist,ec=\"black\",fc=\"blue\",width=2.0)\n",
    "            ax[1].set_title(His_title)\n",
    "            plt.show()\n",
    "            if Save:\n",
    "                fig.savefig(Save_Name+'.'+format,format=format)\n",
    "    else:\n",
    "         a = plt.imshow(Image,cmap=cmap)\n",
    "         plt.axis('off')\n",
    "         plt.title(Im_title)\n",
    "         if colorbar:\n",
    "              plt.colorbar(a,shrink=0.9,orientation=\"horizontal\")\n",
    "         plt.show()\n",
    "         if Save:\n",
    "            plt.savefig(Save_Name+'.'+format,format=format)\n",
    "\n",
    "\n",
    "    "
   ]
  },
  {
   "cell_type": "code",
   "execution_count": null,
   "metadata": {
    "tags": []
   },
   "outputs": [],
   "source": [
    "Image = plt.imread(\"./Figures/cameraman.jpg\")[...,0]\n",
    "print(f\"The loaded Image is {Image.dtype} with shape of {Image.shape}.\")"
   ]
  },
  {
   "cell_type": "code",
   "execution_count": null,
   "metadata": {
    "tags": []
   },
   "outputs": [],
   "source": [
    "ShowTime(Image,bins=255,With_Hist=True,His_title=\"We have fun here\")"
   ]
  },
  {
   "cell_type": "markdown",
   "metadata": {},
   "source": [
    "### Scikit-Image Basics\n",
    ">> 1. I/O images"
   ]
  },
  {
   "cell_type": "code",
   "execution_count": null,
   "metadata": {
    "tags": []
   },
   "outputs": [],
   "source": [
    "Flower = SK.io.imread(\"./Figures/Flower.jpg\")\n",
    "print(f\"The loaded Image is {Flower.dtype} with shape of {Flower.shape}.\")"
   ]
  },
  {
   "cell_type": "code",
   "execution_count": null,
   "metadata": {
    "tags": []
   },
   "outputs": [],
   "source": [
    "SK.color.gray2rgb?"
   ]
  },
  {
   "cell_type": "markdown",
   "metadata": {},
   "source": [
    ">> 2. color mapping easily"
   ]
  },
  {
   "cell_type": "code",
   "execution_count": null,
   "metadata": {
    "tags": []
   },
   "outputs": [],
   "source": [
    "Flower_Gray = SK.color.rgb2gray(Flower)*255\n",
    "print(f\"The loaded Image is {Flower_Gray.dtype} with shape of {Flower_Gray.shape}.\")\n",
    "ShowTime(Flower_Gray,With_Hist=True,bins=256,Im_title=\"Gray scale of Flower\")"
   ]
  },
  {
   "cell_type": "code",
   "execution_count": null,
   "metadata": {
    "tags": []
   },
   "outputs": [],
   "source": [
    "Flower_HSV = SK.color.rgb2hsv(Flower)*255\n",
    "ShowTime(Flower_HSV[:,:,2],bins=256,With_Hist=True,Im_title=\"HSV form of Flower\",cmap='hsv')"
   ]
  },
  {
   "cell_type": "markdown",
   "metadata": {},
   "source": [
    "#### Tricky way to grayscale"
   ]
  },
  {
   "cell_type": "code",
   "execution_count": null,
   "metadata": {
    "tags": []
   },
   "outputs": [],
   "source": [
    "Flower_As_Gray = SK.io.imread(\"./Figures/Flower.jpg\",as_gray=True)*255\n",
    "ShowTime(Flower_As_Gray,bins=256,With_Hist=True,Im_title=\"Tricky way\")"
   ]
  },
  {
   "cell_type": "markdown",
   "metadata": {},
   "source": [
    ">> 3. Image Manipulation like numpy ways"
   ]
  },
  {
   "cell_type": "code",
   "execution_count": null,
   "metadata": {
    "tags": []
   },
   "outputs": [],
   "source": [
    "## Create the indexes and mask a circle at center\n",
    "M,N = Image.shape\n",
    "X,Y = np.meshgrid(range(M),range(N))\n",
    "Mask = (X-M/2)**2 + (Y-N/2)**2 > M*N/4\n",
    "Image_Masked = Image.copy()\n",
    "Image_Masked[Mask] = 0\n",
    "Image_Masked[~Mask] = 1.35*Image[~Mask]\n",
    "ShowTime(Image=Image_Masked,colorbar=True,Im_title=\"Masked Image\",With_Hist=True,bins=256)"
   ]
  },
  {
   "cell_type": "markdown",
   "metadata": {},
   "source": [
    ">> 4. Cropping + Resizing + Rotating with Scikit-Image"
   ]
  },
  {
   "cell_type": "code",
   "execution_count": null,
   "metadata": {
    "tags": []
   },
   "outputs": [],
   "source": [
    "Image_Resized = SK.transform.resize(Image,output_shape=(80,80),order=2,mode='edge')*255\n",
    "ShowTime(Image=Image_Resized,bins=256,With_Hist=True,Im_title=\"Resized\")"
   ]
  },
  {
   "cell_type": "code",
   "execution_count": null,
   "metadata": {
    "tags": []
   },
   "outputs": [],
   "source": [
    "Image_Cropped = SK.util.crop(Image,((30,80),(30,80)))\n",
    "ShowTime(Image=Image_Cropped,With_Hist=False,Im_title=\"Cropped\",colorbar=False)"
   ]
  },
  {
   "cell_type": "code",
   "execution_count": null,
   "metadata": {
    "tags": []
   },
   "outputs": [],
   "source": [
    "Image_Rotated = SK.transform.rotate(Image,angle=45,resize=False)\n",
    "ShowTime(Image=Image_Rotated,With_Hist=False,Im_title=\"Rotated\",colorbar=False)"
   ]
  },
  {
   "cell_type": "code",
   "execution_count": null,
   "metadata": {
    "tags": []
   },
   "outputs": [],
   "source": [
    "Image_Rotated = SK.transform.rotate(Image,angle=45,resize=True)\n",
    "ShowTime(Image=Image_Rotated,With_Hist=False,Im_title=\"Rotated\",colorbar=False)"
   ]
  },
  {
   "attachments": {},
   "cell_type": "markdown",
   "metadata": {},
   "source": [
    "### Index practice and saving issue\n",
    "\n",
    "`**Please**` be carefull at saving directory"
   ]
  },
  {
   "cell_type": "code",
   "execution_count": null,
   "metadata": {
    "tags": []
   },
   "outputs": [],
   "source": [
    "A = np.zeros((8,8))\n",
    "A[1::2,0::2] = 1.0\n",
    "A[0::2,1::2] = 1.0\n",
    "\n",
    "ShowTime(A,With_Hist=False,Im_title=\"ChessBoard\",Save=True,Save_Name=\"./Figures/Outputs/Chessboard\",format='png',colorbar=False)"
   ]
  }
 ],
 "metadata": {
  "kernelspec": {
   "display_name": "Python 3 (ipykernel)",
   "language": "python",
   "name": "python3"
  },
  "language_info": {
   "codemirror_mode": {
    "name": "ipython",
    "version": 3
   },
   "file_extension": ".py",
   "mimetype": "text/x-python",
   "name": "python",
   "nbconvert_exporter": "python",
   "pygments_lexer": "ipython3",
   "version": "3.10.10"
  }
 },
 "nbformat": 4,
 "nbformat_minor": 4
}
