{
 "cells": [
  {
   "attachments": {},
   "cell_type": "markdown",
   "metadata": {},
   "source": [
    "# 12th Day of Python 4 DIP\n",
    "\n",
    "> Contents:\n",
    "> 1. Morphologocial filters\n",
    "> 2. Fourier Transform and DFT\n",
    "\n",
    " \n",
    "\n",
    "Execute the cells to gain outputs"
   ]
  },
  {
   "cell_type": "code",
   "execution_count": null,
   "metadata": {
    "tags": []
   },
   "outputs": [],
   "source": [
    "import numpy as np\n",
    "import matplotlib.pyplot as plt\n",
    "import skimage as SK\n",
    "from Tools import *\n",
    "%matplotlib inline"
   ]
  },
  {
   "attachments": {},
   "cell_type": "markdown",
   "metadata": {},
   "source": [
    "### Removing small objects with morphology"
   ]
  },
  {
   "cell_type": "code",
   "execution_count": null,
   "metadata": {
    "tags": []
   },
   "outputs": [],
   "source": [
    "Circles = SK.color.rgb2gray(SK.io.imread((\"./Figures/circles.jpg\")))\n",
    "ShowTime(Circles,With_Hist=False,colorbar=False,Im_title=\"Circles\")"
   ]
  },
  {
   "cell_type": "code",
   "execution_count": null,
   "metadata": {
    "tags": []
   },
   "outputs": [],
   "source": [
    "Circles[Circles>=0.5] = 1\n",
    "Circles[~(Circles > 0.5)] = 0\n",
    "Circles = np.int64(Circles).astype(bool)\n",
    "fig,ax = plt.subplots(nrows=2,ncols=2,figsize=(8,8))\n",
    "ax = ax.ravel()\n",
    "ax[0].imshow(Circles,cmap='gray')\n",
    "ax[0].set_title(\"Original\")\n",
    "ax[0].axis(\"off\")\n",
    "for i,j in enumerate([25,100,400]):\n",
    "    Out = SK.morphology.remove_small_objects(Circles,min_size=j,connectivity=1)\n",
    "    ax[i+1].imshow(Out,cmap='gray')\n",
    "    ax[i+1].axis(\"off\")\n",
    "    ax[i+1].set_title(\"Removed with %d radius.\"%j)\n"
   ]
  },
  {
   "attachments": {},
   "cell_type": "markdown",
   "metadata": {},
   "source": [
    "### Boundary detection"
   ]
  },
  {
   "cell_type": "code",
   "execution_count": null,
   "metadata": {
    "tags": []
   },
   "outputs": [],
   "source": [
    "Horse = SK.data.horse()\n",
    "Bound_Horse = Horse ^ SK.morphology.binary_erosion(Horse)\n",
    "ShowTimeMul((Horse,Bound_Horse),With_Hist=False,colorbar=False,Im_title=[\"Original\",\"Boundary\"],cmaps=[\"gray\"]*2)"
   ]
  },
  {
   "attachments": {},
   "cell_type": "markdown",
   "metadata": {},
   "source": [
    "### Fourier Transform and DFT"
   ]
  },
  {
   "cell_type": "code",
   "execution_count": null,
   "metadata": {
    "tags": []
   },
   "outputs": [],
   "source": [
    "Camera = SK.io.imread(\"./Figures/cameraman.jpg\",as_gray=True)\n",
    "Camera_noised = SK.util.random_noise(Camera,mode='gaussian',seed=1000)\n",
    "PSNR = SK.metrics.peak_signal_noise_ratio(Camera,Camera_noised)\n",
    "print(f\"The PSNR of Noised image is {PSNR}\")\n",
    "ShowTimeMul((Camera,Camera_noised),With_Hist=False,colorbar=False,Im_title=[\"Original\",\"Noised\"],cmaps=[\"gray\"]*2)"
   ]
  },
  {
   "attachments": {},
   "cell_type": "markdown",
   "metadata": {},
   "source": [
    "##### Plotting Frequency Spectrum"
   ]
  },
  {
   "cell_type": "code",
   "execution_count": null,
   "metadata": {
    "tags": []
   },
   "outputs": [],
   "source": [
    "Freq = np.fft.fft2(Camera)\n",
    "FFT = np.fft.fftshift(Freq)\n",
    "Camera_FFT = 5*np.log10(0.1+FFT).real\n",
    "FFT_Phase = np.angle(Camera_FFT)\n",
    "Camera_IFFT = np.fft.ifft2(Freq).real\n",
    "ShowTimeMul((Camera,Camera_FFT),With_Hist=False,colorbar=False,Im_title=[\"Image\",\"FFT\"],cmaps=[\"gray\"]*2)\n",
    "ShowTimeMul((FFT_Phase,np.clip(Camera_IFFT,0,255)),With_Hist=False,colorbar=False,Im_title=[\"Phase\",\"IFFT\"],cmaps=[\"gray\"]*2)"
   ]
  },
  {
   "attachments": {},
   "cell_type": "markdown",
   "metadata": {},
   "source": [
    "#### Gaussian Kernel as Low Pass Filter"
   ]
  },
  {
   "cell_type": "code",
   "execution_count": null,
   "metadata": {
    "tags": []
   },
   "outputs": [],
   "source": [
    "Gauss_Ker = gauss(50,2.0)\n",
    "Freq_Gauss = np.fft.fft2(np.fft.ifftshift(Gauss_Ker)).real\n",
    "Freq_Gauss2 = 5*np.log10(0.1+np.fft.fftshift(Freq_Gauss)).real\n",
    "ShowTimeMul((Gauss_Ker,Freq_Gauss2),Im_title=[\"Kernel\",\"Shifted Freq\"],colorbar=True,cmaps=[\"gray\"]*2,With_Hist=False)"
   ]
  },
  {
   "attachments": {},
   "cell_type": "markdown",
   "metadata": {},
   "source": [
    "### Spectrum of Filtered Image by Gauss"
   ]
  },
  {
   "cell_type": "code",
   "execution_count": null,
   "metadata": {
    "tags": []
   },
   "outputs": [],
   "source": [
    "Camera_Blurred = FastConv2D(Camera,gauss(25,3.0))\n",
    "Cam_Blur_FFT = 5*np.log10(0.1+np.fft.fftshift(np.fft.fft2(Camera_Blurred))).real\n",
    "ShowTimeMul((Camera_FFT,Cam_Blur_FFT),Im_title=[\"Original Spectrum\",\"Blurred Spectrum\"],colorbar=False,cmaps=[\"gray\"]*2,With_Hist=False)"
   ]
  },
  {
   "attachments": {},
   "cell_type": "markdown",
   "metadata": {},
   "source": [
    "### High pass filtering"
   ]
  },
  {
   "cell_type": "code",
   "execution_count": null,
   "metadata": {
    "tags": []
   },
   "outputs": [],
   "source": [
    "Freq_Cam = np.fft.fft2(Camera)\n",
    "M,N = Freq_Cam.shape\n",
    "Cx,Cy = M//2,N//2\n",
    "fig,ax = plt.subplots(nrows=4,ncols=4,figsize=(8,8))\n",
    "ax = ax.ravel()\n",
    "\n",
    "for i in range(1,17):\n",
    "    Freq = Freq_Cam.copy()\n",
    "    Freq = np.fft.fftshift(Freq)\n",
    "    Freq[Cx-i:Cx+i+1,Cy-i:Cy+i+1] = 1\n",
    "    Image = np.clip(np.fft.ifft2(np.fft.ifftshift(Freq)).real,0,255)\n",
    "    ax[i-1].imshow(Image,cmap=\"gray\")\n",
    "    ax[i-1].set_title(\"Filter %d.\" %i)\n",
    "    ax[i-1].axis(\"off\")"
   ]
  },
  {
   "cell_type": "code",
   "execution_count": null,
   "metadata": {},
   "outputs": [],
   "source": []
  }
 ],
 "metadata": {
  "kernelspec": {
   "display_name": "Python 3 (ipykernel)",
   "language": "python",
   "name": "python3"
  },
  "language_info": {
   "codemirror_mode": {
    "name": "ipython",
    "version": 3
   },
   "file_extension": ".py",
   "mimetype": "text/x-python",
   "name": "python",
   "nbconvert_exporter": "python",
   "pygments_lexer": "ipython3",
   "version": "3.11.2"
  }
 },
 "nbformat": 4,
 "nbformat_minor": 4
}
