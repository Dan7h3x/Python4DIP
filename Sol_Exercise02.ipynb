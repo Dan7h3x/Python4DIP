{
 "cells": [
  {
   "cell_type": "code",
   "execution_count": null,
   "metadata": {
    "tags": []
   },
   "outputs": [],
   "source": [
    "import numpy as np\n",
    "import matplotlib.pyplot as plt\n",
    "%matplotlib inline"
   ]
  },
  {
   "cell_type": "code",
   "execution_count": null,
   "metadata": {
    "tags": []
   },
   "outputs": [],
   "source": [
    "M,N = (64,64)\n",
    "Centers = ((24,24),(40,32),(32,40))\n",
    "X,Y = np.meshgrid(range(M),range(N))\n",
    "Masker = lambda x,y,c: (x-c[0])**2 + (y-c[1])**2\n",
    "Radius = 24\n",
    "Mask0 = Masker(X,Y,Centers[0]) > Radius**2\n",
    "Mask1 = Masker(X,Y,Centers[1]) > Radius**2\n",
    "Mask2 = Masker(X,Y,Centers[2]) > Radius**2\n",
    "Figure = np.ones(shape=(M,N,3))\n",
    "Figure[Mask0,0] = 0\n",
    "Figure[Mask1,1] = 0\n",
    "Figure[Mask2,2] = 0\n",
    "Figure[~Mask0,0] = 1\n",
    "Figure[~Mask1,1] = 1\n",
    "Figure[~Mask2,2] = 1"
   ]
  },
  {
   "cell_type": "code",
   "execution_count": null,
   "metadata": {
    "tags": []
   },
   "outputs": [],
   "source": [
    "fig,ax = plt.subplots(nrows=1,ncols=3)\n",
    "for i in range(3):\n",
    "    ax[i].imshow(Figure[:,:,i],cmap='gray')\n",
    "    "
   ]
  },
  {
   "cell_type": "code",
   "execution_count": null,
   "metadata": {
    "tags": []
   },
   "outputs": [],
   "source": [
    "plt.imshow(Figure)"
   ]
  },
  {
   "cell_type": "code",
   "execution_count": null,
   "metadata": {
    "tags": []
   },
   "outputs": [],
   "source": [
    "Flower = plt.imread(\"./Figures/Flower.jpg\")\n",
    "plt.imshow(Flower)"
   ]
  },
  {
   "cell_type": "code",
   "execution_count": null,
   "metadata": {
    "tags": []
   },
   "outputs": [],
   "source": [
    "MyFlow = Flower.copy()\n",
    "MyFlow.setflags(write=1)\n",
    "plt.imshow(Flower)"
   ]
  },
  {
   "cell_type": "code",
   "execution_count": null,
   "metadata": {
    "tags": []
   },
   "outputs": [],
   "source": [
    "MyFlow[25:350,25:350,0] = 255\n",
    "plt.imshow(MyFlow[...,0],cmap='Reds')"
   ]
  }
 ],
 "metadata": {
  "kernelspec": {
   "display_name": "Python 3 (ipykernel)",
   "language": "python",
   "name": "python3"
  },
  "language_info": {
   "codemirror_mode": {
    "name": "ipython",
    "version": 3
   },
   "file_extension": ".py",
   "mimetype": "text/x-python",
   "name": "python",
   "nbconvert_exporter": "python",
   "pygments_lexer": "ipython3",
   "version": "3.11.2"
  }
 },
 "nbformat": 4,
 "nbformat_minor": 4
}
