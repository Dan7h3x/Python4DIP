{
 "cells": [
  {
   "attachments": {},
   "cell_type": "markdown",
   "metadata": {},
   "source": [
    "# Third Day of Python 4 DIP\n",
    "\n",
    "> Contents:\n",
    "> 1. Vectors and matrix in Numpy\n",
    "> 2. Numpy benefits in application\n",
    "\n",
    "`resuming the Day02`"
   ]
  },
  {
   "cell_type": "code",
   "execution_count": null,
   "metadata": {
    "tags": []
   },
   "outputs": [],
   "source": [
    "import numpy as np"
   ]
  },
  {
   "attachments": {},
   "cell_type": "markdown",
   "metadata": {},
   "source": [
    "## The Linear algebra basics"
   ]
  },
  {
   "cell_type": "code",
   "execution_count": null,
   "metadata": {
    "tags": []
   },
   "outputs": [],
   "source": [
    "c1,c2,c3 = (2.0,-1.0,0.5)\n",
    "x1 = np.array([1,2,3])\n",
    "x2 = np.array([3,4,5])\n",
    "x3 = np.array([6,7,8])\n",
    "y = c1*x1 + c2*x2 + c3*x3\n",
    "print(f\"Linear combination result is {y}.\")"
   ]
  },
  {
   "cell_type": "code",
   "execution_count": null,
   "metadata": {
    "tags": []
   },
   "outputs": [],
   "source": [
    "C = np.array([2.0,-1.0,0.5])\n",
    "X = np.vstack((x1,x2,x3))\n",
    "Y = np.dot(C,X)\n",
    "print(f\"Dot multiplication\\n {X} by {C} results in {Y}.\")"
   ]
  },
  {
   "cell_type": "code",
   "execution_count": null,
   "metadata": {
    "tags": []
   },
   "outputs": [],
   "source": [
    "# Inner and Outer product of 2 vector\n",
    "print(f\"The Inner product = {np.inner(-x1,x2)}\\n\\\n",
    "and Outer = \\n{np.outer(0.5*x1,x2)}.\")"
   ]
  },
  {
   "attachments": {},
   "cell_type": "markdown",
   "metadata": {},
   "source": [
    "#### Tip:\n",
    "`@ operator performs as np.dot.`"
   ]
  },
  {
   "cell_type": "code",
   "execution_count": null,
   "metadata": {
    "tags": []
   },
   "outputs": [],
   "source": [
    "print(f\"This tip results {-x1@x2}.\")"
   ]
  },
  {
   "cell_type": "code",
   "execution_count": null,
   "metadata": {
    "tags": []
   },
   "outputs": [],
   "source": [
    "# Another example of vector calculation in Numpy\n",
    "print(\"Algebraic identity: (x1+x2)*(x1-x2) = x1^2 - x2^2.\")\n",
    "print(f\"{((x1+x2)*(x1-x2) - (x1**2 - x2**2))[0]:2.8e}\")"
   ]
  },
  {
   "attachments": {},
   "cell_type": "markdown",
   "metadata": {},
   "source": [
    "### The universality of Numpy array objects\n",
    "`Combination of functions for complex computation.`"
   ]
  },
  {
   "cell_type": "code",
   "execution_count": null,
   "metadata": {
    "tags": []
   },
   "outputs": [],
   "source": [
    "theta=np.arctan(x2/x1) * (360/(2*np.pi))\n",
    "print(f\"The angles are {theta}\\n\\\n",
    "      with trigonometric identity calculation: {np.sin(theta)**2 + np.cos(theta)**2}.\")"
   ]
  },
  {
   "attachments": {},
   "cell_type": "markdown",
   "metadata": {},
   "source": [
    "### The norm calculation\n",
    "$$ \\|\\boldsymbol{x}\\|_2 = \\sqrt{x_1^2 + \\cdots + x_n^2} $$"
   ]
  },
  {
   "cell_type": "code",
   "execution_count": null,
   "metadata": {
    "tags": []
   },
   "outputs": [],
   "source": [
    "def Norm2(x=np.array([1,0,0])):\n",
    "    return np.sqrt(sum(x**2))\n",
    "\n",
    "print(f\"The norm 2 of vector {x2} is {Norm2(x2):2.6f}.\")"
   ]
  },
  {
   "attachments": {},
   "cell_type": "markdown",
   "metadata": {},
   "source": [
    "### The p-norm calculation\n",
    "$$ \\|\\boldsymbol{x}\\|_p = \\bigg(\\sum\\limits_{i=1}^{n} x_i^p\\bigg)^{1/p} $$"
   ]
  },
  {
   "cell_type": "code",
   "execution_count": null,
   "metadata": {
    "tags": []
   },
   "outputs": [],
   "source": [
    "Norm2()"
   ]
  },
  {
   "cell_type": "code",
   "execution_count": null,
   "metadata": {},
   "outputs": [],
   "source": [
    "# Global P-norm\n",
    "NormP = lambda x,p: sum(x**p)**(1/p)"
   ]
  },
  {
   "cell_type": "code",
   "execution_count": null,
   "metadata": {},
   "outputs": [],
   "source": [
    "Evaluated_Norms = [NormP(x2,p) for p in range(1,10)] \n",
    "print(f\"Evaluated Norms are\\n {Evaluated_Norms}.\")"
   ]
  },
  {
   "attachments": {},
   "cell_type": "markdown",
   "metadata": {},
   "source": [
    "### The Projection calculation\n",
    "`Projection of vector by another vector:`\n",
    "$$Proj(y;a) := \\frac{a a^T}{a^T a} y$$\n",
    "\n",
    "`Projection of vector by Matrix:`\n",
    "$$Proj(y;A) := A(A^T A)^{-1} A^T y$$"
   ]
  },
  {
   "cell_type": "code",
   "execution_count": null,
   "metadata": {
    "tags": []
   },
   "outputs": [],
   "source": [
    "def Projection(y,A):\n",
    "    n,dim = A.shape\n",
    "    if dim == 1:\n",
    "        res = ((a@a.T)/(a.T@a))*y\n",
    "    elif dim != 1:\n",
    "        res = A@(A.T@A)**(-1)@A.T*y\n",
    "    else:\n",
    "        raise ValueError(\"The variables is not correct\")\n",
    "    return res"
   ]
  },
  {
   "cell_type": "code",
   "execution_count": null,
   "metadata": {
    "tags": []
   },
   "outputs": [],
   "source": [
    "# Lets now test projection function\n",
    "a = np.linspace(0,1,num=20).reshape(-1,1)\n",
    "A = np.linspace(-3,3,num=400).reshape(20,20)\n",
    "y = np.sin(np.pi*np.linspace(-1,1,num=20))\n",
    "\n",
    "P1 = Projection(y,a)\n",
    "P2 = Projection(y,A)"
   ]
  },
  {
   "cell_type": "code",
   "execution_count": null,
   "metadata": {
    "tags": []
   },
   "outputs": [],
   "source": [
    "import matplotlib.pyplot as plt\n",
    "plt.plot(y,P1.T)\n",
    "plt.show()\n",
    "plt.plot(y,P2.T)\n",
    "plt.show()"
   ]
  },
  {
   "cell_type": "code",
   "execution_count": null,
   "metadata": {},
   "outputs": [],
   "source": [
    "plt.imshow(P1.T)\n",
    "plt.show()"
   ]
  },
  {
   "cell_type": "code",
   "execution_count": null,
   "metadata": {},
   "outputs": [],
   "source": [
    "plt.imshow(P2.T)\n",
    "plt.show()"
   ]
  },
  {
   "attachments": {},
   "cell_type": "markdown",
   "metadata": {},
   "source": [
    "### Most important and Awesome advantage of Numpy arrays is speed of calculation\n",
    "`For example determinant calculation.`"
   ]
  },
  {
   "cell_type": "code",
   "execution_count": null,
   "metadata": {
    "tags": []
   },
   "outputs": [],
   "source": [
    "def determinant(matrix, mul):\n",
    "\n",
    "    width = len(matrix)\n",
    "    if width == 1:\n",
    "        return mul * matrix[0][0]\n",
    "    else:\n",
    "        sign = -1\n",
    "        answer = 0\n",
    "        for i in range(width):\n",
    "            m = []\n",
    "            for j in range(1, width):\n",
    "                buff = []\n",
    "                for k in range(width):\n",
    "                    if k != i:\n",
    "                        buff.append(matrix[j][k])\n",
    "                m.append(buff)\n",
    "            sign *= -1\n",
    "            answer = answer + mul * determinant(m, sign * matrix[0][i])\n",
    "    return answer"
   ]
  },
  {
   "cell_type": "code",
   "execution_count": null,
   "metadata": {
    "tags": []
   },
   "outputs": [],
   "source": [
    "np.random.seed(1000)\n",
    "M = np.random.randn(100).reshape(10,10)\n",
    "%time print(f\"The List way determinant = {determinant(M,1)}\")\n",
    "%time print(f\"The Numpy way determinant = {np.linalg.det(M)}\")"
   ]
  },
  {
   "attachments": {},
   "cell_type": "markdown",
   "metadata": {},
   "source": [
    "### The advantage of Masking or filtering "
   ]
  },
  {
   "cell_type": "code",
   "execution_count": null,
   "metadata": {
    "tags": []
   },
   "outputs": [],
   "source": [
    "np.random.seed(1000)\n",
    "Matrix = np.random.randn(5,5)\n",
    "print(Matrix)"
   ]
  },
  {
   "cell_type": "code",
   "execution_count": null,
   "metadata": {
    "tags": []
   },
   "outputs": [],
   "source": [
    "Matrix >= 0"
   ]
  },
  {
   "cell_type": "code",
   "execution_count": null,
   "metadata": {
    "tags": []
   },
   "outputs": [],
   "source": [
    "Masked1 = Matrix[Matrix>=0]\n",
    "print(Masked1)"
   ]
  },
  {
   "cell_type": "code",
   "execution_count": null,
   "metadata": {
    "tags": []
   },
   "outputs": [],
   "source": [
    "Result = np.where(Matrix >=0,Matrix,abs(Matrix))"
   ]
  },
  {
   "cell_type": "code",
   "execution_count": null,
   "metadata": {
    "tags": []
   },
   "outputs": [],
   "source": [
    "Result - Matrix"
   ]
  },
  {
   "cell_type": "code",
   "execution_count": null,
   "metadata": {},
   "outputs": [],
   "source": []
  }
 ],
 "metadata": {
  "kernelspec": {
   "display_name": "Python 3 (ipykernel)",
   "language": "python",
   "name": "python3"
  },
  "language_info": {
   "codemirror_mode": {
    "name": "ipython",
    "version": 3
   },
   "file_extension": ".py",
   "mimetype": "text/x-python",
   "name": "python",
   "nbconvert_exporter": "python",
   "pygments_lexer": "ipython3",
   "version": "3.11.2"
  }
 },
 "nbformat": 4,
 "nbformat_minor": 4
}
