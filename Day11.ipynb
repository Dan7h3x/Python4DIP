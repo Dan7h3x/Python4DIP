{
 "cells": [
  {
   "attachments": {},
   "cell_type": "markdown",
   "metadata": {},
   "source": [
    "# 11th Day of Python 4 DIP\n",
    "\n",
    "> Contents:\n",
    "> 1. Corner detection Harris methodology\n",
    "> 2. Detection of lines and curves Hough transform\n",
    "> 3. Mathematical morphology\n",
    " \n",
    "\n",
    "Execute the cells to gain outputs"
   ]
  },
  {
   "cell_type": "code",
   "execution_count": null,
   "metadata": {
    "tags": []
   },
   "outputs": [],
   "source": [
    "import numpy as np\n",
    "import matplotlib.pyplot as plt\n",
    "import skimage as SK\n",
    "from Tools import *\n",
    "%matplotlib inline"
   ]
  },
  {
   "attachments": {},
   "cell_type": "markdown",
   "metadata": {},
   "source": [
    "### Unsharp Masking"
   ]
  },
  {
   "cell_type": "code",
   "execution_count": null,
   "metadata": {
    "tags": []
   },
   "outputs": [],
   "source": [
    "Camera = SK.io.imread(\"./Figures/cameraman.jpg\",as_gray=True)\n",
    "Res1 = SK.filters.unsharp_mask(Camera,radius=1,amount=1.0)\n",
    "Res2 = SK.filters.unsharp_mask(Camera,radius=1,amount=2.0)\n",
    "Res3 = SK.filters.unsharp_mask(Camera,radius=5,amount=2.0)\n",
    "ShowTimeMul((Camera,Res1),Im_title=[\"Original\",\"Enhanced 1-1\"],With_Hist=False,cmaps=[\"gray\"]*2,colorbar=False)\n",
    "ShowTimeMul((Res2,Res3),Im_title=[\"Enhanced 1-2\",\"Enhanced 5-2\"],With_Hist=False,cmaps=[\"gray\"]*2,colorbar=False)"
   ]
  },
  {
   "attachments": {},
   "cell_type": "markdown",
   "metadata": {},
   "source": [
    "### Corner detection Harris\n",
    "\n",
    "1. Compute $x$ and $y$ derivatives ($I_x, I_y$) of an image\n",
    "2. Compute products of derivatives ($I_x^2, I_y^2, I_{xy}$) at each pixel\n",
    "3. Compute matrix $M$ at each pixel, where\n",
    "$$\n",
    "M = \\sum_{x,y} w(x,y)\n",
    "    \\begin{bmatrix}\n",
    "        I_{x}^2 & I_{x}I_{y} \\\\\n",
    "        I_{x}I_{y} & I_{y}^2\n",
    "    \\end{bmatrix}\n",
    "$$\n",
    "4. Compute corner response $R=Det(M)-k(Trace(M)^2)$ at each pixel\n",
    "5. Output corner response map $R(x,y)$\n"
   ]
  },
  {
   "cell_type": "code",
   "execution_count": null,
   "metadata": {
    "tags": []
   },
   "outputs": [],
   "source": [
    "## Lets create an awesome image\n",
    "r,c = SK.draw.ellipse(160,175,10,100)\n",
    "Transform = SK.transform.AffineTransform(scale=(1.3,1.1),rotation=1,shear=0.7,translation=(110,30))\n",
    "Image = SK.transform.warp(SK.data.checkerboard()[:90,:90],Transform.inverse,output_shape=(200,310))\n",
    "Image[r,c] = 1.0\n",
    "Image[30:80,200:250] = 1.0\n",
    "Image[80:130,250:300] = 1.0\n",
    "ShowTime(Image,With_Hist=False,colorbar=False)"
   ]
  },
  {
   "cell_type": "code",
   "execution_count": null,
   "metadata": {
    "tags": []
   },
   "outputs": [],
   "source": [
    "Har_Image = SK.feature.corner_harris(Image,method='k',k=0.04)\n",
    "Coordinates = SK.feature.corner_peaks(Har_Image,min_distance=5,threshold_rel=0.04)\n",
    "Coordinates_Sub = SK.feature.corner_subpix(Har_Image,Coordinates,window_size=13)\n",
    "plt.imshow(Image,cmap='inferno')\n",
    "plt.plot(Coordinates[:,1],Coordinates[:,0],\"xr\")\n",
    "plt.plot(Coordinates_Sub[:,1],Coordinates_Sub[:,0],\"+b\")\n",
    "plt.show()"
   ]
  },
  {
   "attachments": {},
   "cell_type": "markdown",
   "metadata": {},
   "source": [
    "### Hough transform (Detection of lines)"
   ]
  },
  {
   "cell_type": "code",
   "execution_count": null,
   "metadata": {
    "tags": []
   },
   "outputs": [],
   "source": [
    "## Creation of Lines image\n",
    "Lines = np.zeros((100,100))\n",
    "Lines[SK.draw.line(5,35,75,85)] = 1.0\n",
    "Lines[SK.draw.line(8,65,80,5)] = 1.0\n",
    "Lines[SK.draw.line(70,95,70,5)] = 1.0\n",
    "\n",
    "## Create the angles\n",
    "th = np.linspace(-np.pi/2,np.pi/2,360)\n",
    "hough, theta, dists = SK.transform.hough_line(Lines,theta=th)\n",
    "ShowTimeMul((Lines,np.log(1+hough)),Im_title=[\"Original\",\"Hough Transform\"],With_Hist=False,colorbar=False,cmaps=[\"gray\"]*2)"
   ]
  },
  {
   "cell_type": "code",
   "execution_count": null,
   "metadata": {
    "tags": []
   },
   "outputs": [],
   "source": [
    "fig,ax = plt.subplots()\n",
    "ax.imshow(Lines,cmap=\"gray\")\n",
    "a,b,c = SK.transform.hough_line_peaks(hspace=hough,angles=theta,dists=dists)\n",
    "for _, angle,dist in zip(a,b,c):\n",
    "    (x,y) = dist * np.array([np.cos(angle),np.sin(angle)])\n",
    "    ax.axline((x,y),slope=np.tan(angle+np.pi/2))\n",
    "plt.show()"
   ]
  },
  {
   "attachments": {},
   "cell_type": "markdown",
   "metadata": {},
   "source": [
    "### For probabilistic hough line transform please go to Day10 notebook."
   ]
  },
  {
   "attachments": {},
   "cell_type": "markdown",
   "metadata": {},
   "source": [
    "### Hough transform for curves and circular shapes\n",
    ">> `Circle detection`"
   ]
  },
  {
   "cell_type": "code",
   "execution_count": null,
   "metadata": {
    "tags": []
   },
   "outputs": [],
   "source": [
    "Coins = SK.util.img_as_ubyte(SK.data.coins())\n",
    "Edges = SK.feature.canny(Coins,sigma=3,low_threshold=10,high_threshold=50)\n",
    "## Detect circles with radius\n",
    "Rads = np.arange(10,45,2)\n",
    "Hough_Circle = SK.transform.hough_circle(Edges,Rads)\n",
    "Accs,Cx,Cy,Rad_H = SK.transform.hough_circle_peaks(Hough_Circle,Rads,total_num_peaks=15)\n",
    "Coins = SK.color.gray2rgb(Coins)\n",
    "fig,ax = plt.subplots()\n",
    "for yi,xi,r in zip(Cy,Cx,Rad_H):\n",
    "    Ciry,Cirx = SK.draw.circle_perimeter(yi,xi,r,shape=Coins.shape)\n",
    "    Coins[Ciry,Cirx] = (200,0,0)\n",
    "\n",
    "ax.imshow(Coins,cmap='gray')\n",
    "for i in range(len(Accs)):\n",
    "    ax.plot(Cx[i],Cy[i],\"+b\")\n",
    "    ax.text(Cx[i],Cy[i],'%2.3f'%Accs[i],horizontalalignment='center')\n",
    "\n"
   ]
  },
  {
   "attachments": {},
   "cell_type": "markdown",
   "metadata": {},
   "source": [
    "### Hough transform for curves and circular shapes\n",
    ">> `Ellipse detection`\n",
    "\n",
    "Code from documentation of scikit-image"
   ]
  },
  {
   "cell_type": "code",
   "execution_count": null,
   "metadata": {
    "tags": []
   },
   "outputs": [],
   "source": [
    "# Load picture, convert to grayscale and detect edges\n",
    "image_rgb = SK.data.coffee()[0:220, 160:420]\n",
    "image_gray = SK.color.rgb2gray(image_rgb)\n",
    "edges = SK.feature.canny(image_gray, sigma=2.0,\n",
    "              low_threshold=0.55, high_threshold=0.8)\n",
    "\n",
    "# Perform a Hough Transform\n",
    "# The accuracy corresponds to the bin size of a major axis.\n",
    "# The value is chosen in order to get a single high accumulator.\n",
    "# The threshold eliminates low accumulators\n",
    "result = SK.transform.hough_ellipse(edges, accuracy=20, threshold=250,\n",
    "                       min_size=100, max_size=120)\n",
    "result.sort(order='accumulator')\n",
    "\n",
    "# Estimated parameters for the ellipse\n",
    "best = list(result[-1])\n",
    "yc, xc, a, b = (int(round(x)) for x in best[1:5])\n",
    "orientation = best[5]\n",
    "\n",
    "# Draw the ellipse on the original image\n",
    "cy, cx = SK.draw.ellipse_perimeter(yc, xc, a, b, orientation)\n",
    "image_rgb[cy, cx] = (0, 0, 255)\n",
    "# Draw the edge (white) and the resulting ellipse (red)\n",
    "edges = SK.color.gray2rgb(SK.util.img_as_ubyte(edges))\n",
    "edges[cy, cx] = (250, 0, 0)\n",
    "\n",
    "fig2, (ax1, ax2) = plt.subplots(ncols=2, nrows=1, figsize=(8, 4),\n",
    "                                sharex=True, sharey=True)\n",
    "\n",
    "ax1.set_title('Original picture')\n",
    "ax1.imshow(image_rgb)\n",
    "\n",
    "ax2.set_title('Edge (white) and result (red)')\n",
    "ax2.imshow(edges)\n",
    "\n",
    "plt.show()\n",
    "\n"
   ]
  },
  {
   "attachments": {},
   "cell_type": "markdown",
   "metadata": {},
   "source": [
    "### Mathematical Morphology"
   ]
  },
  {
   "cell_type": "code",
   "execution_count": null,
   "metadata": {
    "tags": []
   },
   "outputs": [],
   "source": [
    "Phantom = SK.util.img_as_ubyte(SK.data.shepp_logan_phantom())\n",
    "ShowTime(Phantom,With_Hist=False,Im_title=\"Shepp logans Phantom\",colorbar=False)"
   ]
  },
  {
   "attachments": {},
   "cell_type": "markdown",
   "metadata": {},
   "source": [
    "### `Erosion`"
   ]
  },
  {
   "cell_type": "code",
   "execution_count": null,
   "metadata": {
    "tags": []
   },
   "outputs": [],
   "source": [
    "Disk = SK.morphology.disk(11)\n",
    "Phantom_Er = SK.morphology.erosion(image=Phantom,footprint=Disk)\n",
    "ShowTimeMul((Phantom,Phantom_Er),figsize=(8,6),With_Hist=False,Im_title=[\"Original\",\"Erosion\"],colorbar=False,cmaps=[\"gray\"]*2)"
   ]
  },
  {
   "attachments": {},
   "cell_type": "markdown",
   "metadata": {},
   "source": [
    "### `Dilation`"
   ]
  },
  {
   "cell_type": "code",
   "execution_count": null,
   "metadata": {
    "tags": []
   },
   "outputs": [],
   "source": [
    "Phantom_Dil = SK.morphology.dilation(image=Phantom,footprint=Disk)\n",
    "ShowTimeMul((Phantom,Phantom_Dil),figsize=(8,6),With_Hist=False,Im_title=[\"Original\",\"Dilation\"],colorbar=False,cmaps=[\"gray\"]*2)"
   ]
  },
  {
   "attachments": {},
   "cell_type": "markdown",
   "metadata": {},
   "source": [
    "### `Opening`"
   ]
  },
  {
   "cell_type": "code",
   "execution_count": null,
   "metadata": {
    "tags": []
   },
   "outputs": [],
   "source": [
    "Phantom_Open = SK.morphology.opening(image=Phantom,footprint=Disk)\n",
    "ShowTimeMul((Phantom,Phantom_Open),figsize=(8,6),With_Hist=False,Im_title=[\"Original\",\"Opening\"],colorbar=False,cmaps=[\"gray\"]*2)"
   ]
  },
  {
   "attachments": {},
   "cell_type": "markdown",
   "metadata": {},
   "source": [
    "### `Closing`"
   ]
  },
  {
   "cell_type": "code",
   "execution_count": null,
   "metadata": {
    "tags": []
   },
   "outputs": [],
   "source": [
    "Phantom_Copy = Phantom.copy()\n",
    "Phantom_Copy[10:30,200:210] = 0\n",
    "Phantom_Clos = SK.morphology.closing(image=Phantom_Copy,footprint=Disk)\n",
    "ShowTimeMul((Phantom_Copy,Phantom_Clos),figsize=(8,6),With_Hist=False,Im_title=[\"Deleted\",\"Closing\"],colorbar=False,cmaps=[\"gray\"]*2)"
   ]
  },
  {
   "attachments": {},
   "cell_type": "markdown",
   "metadata": {},
   "source": [
    "### `Skletonize`"
   ]
  },
  {
   "cell_type": "code",
   "execution_count": null,
   "metadata": {
    "tags": []
   },
   "outputs": [],
   "source": [
    "Horse = SK.data.horse()\n",
    "Horse_Skel = SK.morphology.skeletonize(Horse==0)\n",
    "ShowTimeMul((Horse,Horse_Skel),figsize=(8,6),With_Hist=False,Im_title=[\"Original\",\"Skeleton\"],colorbar=False,cmaps=[\"gray\"]*2)"
   ]
  },
  {
   "attachments": {},
   "cell_type": "markdown",
   "metadata": {},
   "source": [
    "### Bonus effects of Morphology"
   ]
  },
  {
   "cell_type": "code",
   "execution_count": null,
   "metadata": {
    "tags": []
   },
   "outputs": [],
   "source": [
    "Text = SK.io.imread(\"./Figures/Text.tif\")\n",
    "Text_Dil = SK.morphology.dilation(Text,footprint=SK.morphology.disk(5))\n",
    "ShowTimeMul((Text,Text_Dil),figsize=(12,6),With_Hist=False,Im_title=[\"Original\",\"Diltion\"],colorbar=False,cmaps=[\"gray\"]*2)"
   ]
  }
 ],
 "metadata": {
  "kernelspec": {
   "display_name": "Python 3 (ipykernel)",
   "language": "python",
   "name": "python3"
  },
  "language_info": {
   "codemirror_mode": {
    "name": "ipython",
    "version": 3
   },
   "file_extension": ".py",
   "mimetype": "text/x-python",
   "name": "python",
   "nbconvert_exporter": "python",
   "pygments_lexer": "ipython3",
   "version": "3.11.2"
  }
 },
 "nbformat": 4,
 "nbformat_minor": 4
}
