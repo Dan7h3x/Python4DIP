{
 "cells": [
  {
   "attachments": {},
   "cell_type": "markdown",
   "metadata": {},
   "source": [
    "# 10th Day of Python 4 DIP\n",
    "\n",
    "> Contents:\n",
    "> 1. Non local Maxima Supression\n",
    "> 2. Canny and Hough edge detection\n",
    " \n",
    "\n",
    "Execute the cells to gain outputs"
   ]
  },
  {
   "cell_type": "code",
   "execution_count": null,
   "metadata": {
    "tags": []
   },
   "outputs": [],
   "source": [
    "import numpy as np\n",
    "import matplotlib.pyplot as plt\n",
    "import skimage as SK\n",
    "import time\n",
    "from Tools import *\n",
    "%matplotlib inline"
   ]
  },
  {
   "attachments": {},
   "cell_type": "markdown",
   "metadata": {},
   "source": [
    "### The Magnitude and directions "
   ]
  },
  {
   "cell_type": "code",
   "execution_count": null,
   "metadata": {
    "tags": []
   },
   "outputs": [],
   "source": [
    "def Grad(Image):\n",
    "    \"\"\"\n",
    "    Simple Gradient magnitude and angles calculator\n",
    "    \"\"\"\n",
    "    Dx = SK.filters.sobel_h(Image)\n",
    "    Dy = SK.filters.sobel_v(Image)\n",
    "    M = np.sqrt(Dx**2+Dy**2)\n",
    "    th = np.rad2deg(np.arctan2(Dy,Dx))\n",
    "    th = (th + 360)%360\n",
    "    return M,th"
   ]
  },
  {
   "attachments": {},
   "cell_type": "markdown",
   "metadata": {},
   "source": [
    "### The Non local Maxima Supression (NLS)"
   ]
  },
  {
   "cell_type": "code",
   "execution_count": null,
   "metadata": {
    "tags": []
   },
   "outputs": [],
   "source": [
    "def NLS(Magnitude,Theta):\n",
    "    \"\"\"The Simple Non local supression function\"\"\"\n",
    "    M,N = Magnitude.shape\n",
    "    result = np.zeros_like(Magnitude)\n",
    "\n",
    "    ## Splitting the angles to 45 degree lines\n",
    "    Theta = (np.floor((Theta+22.5)/45)*45)%360\n",
    "    for i in range(1,M-1):\n",
    "        for j in range(1,N-1):\n",
    "            alpha = Theta[i,j]\n",
    "\n",
    "            if alpha == 0.0 or alpha == 180.0:\n",
    "                Indexs = [Magnitude[i,j-1],Magnitude[i,j+1]]\n",
    "            elif alpha == 45.0 or alpha == 225.0:\n",
    "                Indexs = [Magnitude[i+1,j+1],Magnitude[i-1,j-1]]\n",
    "            elif alpha == 90.0 or alpha == 270.0:\n",
    "                Indexs = [Magnitude[i-1,j],Magnitude[i+1,j]]\n",
    "            elif alpha == 135.0 or alpha == 315.0:\n",
    "                Indexs = [Magnitude[i+1,j],Magnitude[i-1,j+1]]\n",
    "            else:\n",
    "                raise ValueError(f\"The alpha = {alpha} is not in [0,45,90,135,180,225,270,315].\")\n",
    "            \n",
    "            if Magnitude[i,j] >= np.max(Indexs):\n",
    "                result[i,j] = Magnitude[i,j]\n",
    "            else:\n",
    "                result[i,j] = 0.0\n",
    "            \n",
    "    return result\n"
   ]
  },
  {
   "cell_type": "code",
   "execution_count": null,
   "metadata": {
    "tags": []
   },
   "outputs": [],
   "source": [
    "Camera = SK.io.imread(\"./Figures/cameraman.jpg\",as_gray=True)\n",
    "M,Th = Grad(Camera)\n",
    "Camera_NLS = NLS(M,Th)\n",
    "ShowTimeMul((M*255,Camera_NLS*255),With_Hist=False,figsize=(7,5),Im_title=[\"Magnitude\",\"NLS of Magnitude\"],cmaps=['gray']*2)"
   ]
  },
  {
   "attachments": {},
   "cell_type": "markdown",
   "metadata": {},
   "source": [
    "### Strong and Weak edges"
   ]
  },
  {
   "cell_type": "code",
   "execution_count": null,
   "metadata": {
    "tags": []
   },
   "outputs": [],
   "source": [
    "def double_thresholding(Image,High,Low):\n",
    "    \"\"\"\n",
    "    Simple Double thresholding function\n",
    "    \"\"\"\n",
    "    Strong = np.zeros_like(Image)\n",
    "    Weak = Strong.copy()\n",
    "    Strong = Image > High\n",
    "    Weak = (Image > Low) & (Image <= High)\n",
    "    return Strong,Weak"
   ]
  },
  {
   "cell_type": "code",
   "execution_count": null,
   "metadata": {
    "tags": []
   },
   "outputs": [],
   "source": [
    "low = 0.35\n",
    "high = 0.5\n",
    "Strong,Weak = double_thresholding(Camera_NLS,high,low)\n",
    "ShowTimeMul((Weak*255,Strong*255),With_Hist=False,figsize=(7,5),Im_title=[\"Weak\",\"Strong\"],cmaps=['gray']*2)"
   ]
  },
  {
   "attachments": {},
   "cell_type": "markdown",
   "metadata": {},
   "source": [
    "### Canny Edge detection with scikit-image"
   ]
  },
  {
   "cell_type": "code",
   "execution_count": null,
   "metadata": {
    "tags": []
   },
   "outputs": [],
   "source": [
    "Camera_Noised = SK.util.random_noise(Camera,mode=\"s&p\",seed=1000,salt_vs_pepper = 0.2)\n",
    "Camera_Smooth = SK.filters.gaussian(Camera_Noised,sigma=2)\n",
    "Edges = SK.feature.canny(Camera_Smooth)\n",
    "Edges2 = SK.feature.canny(Camera_Smooth,sigma=2)\n",
    "ShowTimeMul((Edges,Edges2),With_Hist=False,figsize=(7,5),Im_title=[\"Edges\",\"Edges 2\"],cmaps=['gray']*2,colorbar=False)"
   ]
  },
  {
   "attachments": {},
   "cell_type": "markdown",
   "metadata": {},
   "source": [
    "### Robert and Sobel Edge detection"
   ]
  },
  {
   "cell_type": "code",
   "execution_count": null,
   "metadata": {
    "tags": []
   },
   "outputs": [],
   "source": [
    "Edges_Robert = SK.filters.roberts(Camera_Smooth)\n",
    "Edges_Sobel = SK.filters.sobel(Camera_Smooth)\n",
    "\n",
    "ShowTimeMul((Edges_Robert,Edges_Sobel),With_Hist=False,figsize=(7,5),Im_title=[\"Robert\",\"Sobel\"],cmaps=['gray']*2,colorbar=False)"
   ]
  },
  {
   "attachments": {},
   "cell_type": "markdown",
   "metadata": {},
   "source": [
    "### Hough transform"
   ]
  },
  {
   "cell_type": "code",
   "execution_count": null,
   "metadata": {
    "tags": []
   },
   "outputs": [],
   "source": [
    "Lines = SK.transform.probabilistic_hough_line(Edges,threshold=10,line_length=5,line_gap=3)\n",
    "#ShowTime(Edges,figsize=(7,5),With_Hist=False,colorbar=False)\n",
    "fig,ax = plt.subplots(nrows=1,ncols=1)\n",
    "ax.imshow(Edges,cmap='gray')\n",
    "for l in Lines:\n",
    "    p0,p1 = l\n",
    "    ax.plot((p0[0],p1[0]),(p0[1],p1[1]))\n",
    "\n",
    "    "
   ]
  },
  {
   "cell_type": "code",
   "execution_count": null,
   "metadata": {},
   "outputs": [],
   "source": []
  }
 ],
 "metadata": {
  "kernelspec": {
   "display_name": "Python 3 (ipykernel)",
   "language": "python",
   "name": "python3"
  },
  "language_info": {
   "codemirror_mode": {
    "name": "ipython",
    "version": 3
   },
   "file_extension": ".py",
   "mimetype": "text/x-python",
   "name": "python",
   "nbconvert_exporter": "python",
   "pygments_lexer": "ipython3",
   "version": "3.11.3"
  }
 },
 "nbformat": 4,
 "nbformat_minor": 4
}
