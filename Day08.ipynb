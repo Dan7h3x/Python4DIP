{
 "cells": [
  {
   "attachments": {},
   "cell_type": "markdown",
   "metadata": {},
   "source": [
    "# 8th Day of Python 4 DIP\n",
    "\n",
    "> Contents:\n",
    "> 1. Filters and local Filtering\n",
    "> 2. Padding and Noises\n",
    "\n",
    "Execute the cells to gain outputs"
   ]
  },
  {
   "cell_type": "code",
   "execution_count": null,
   "metadata": {
    "tags": []
   },
   "outputs": [],
   "source": [
    "import numpy as np\n",
    "import matplotlib.pyplot as plt\n",
    "import skimage as SK\n",
    "import time\n",
    "from Tools import *\n",
    "%matplotlib inline"
   ]
  },
  {
   "attachments": {},
   "cell_type": "markdown",
   "metadata": {},
   "source": [
    "#### Mean Filter\n",
    "$$Mean = \\begin{bmatrix} 1/9 & 1/9 & 1/9\\\\1/9 & 1/9 & 1/9\\\\1/9 & 1/9 & 1/9\\\\\\end{bmatrix}_{3\\times 3}$$"
   ]
  },
  {
   "cell_type": "code",
   "execution_count": null,
   "metadata": {
    "tags": []
   },
   "outputs": [],
   "source": [
    "Camera = SK.io.imread(\"./Figures/cameraman.jpg\",as_gray=True)*255\n",
    "Padded_Camera = Zero_Padding(Camera,10,10)\n",
    "Mean_Filter = np.full((3,3),1/9)"
   ]
  },
  {
   "cell_type": "code",
   "execution_count": null,
   "metadata": {
    "tags": []
   },
   "outputs": [],
   "source": [
    "ShowTime(Padded_Camera,With_Hist=True,bins=256,colorbar=True,Im_title=\"CameraMan\")"
   ]
  },
  {
   "attachments": {},
   "cell_type": "markdown",
   "metadata": {},
   "source": [
    "## Convolution\n",
    "Recall that the convolution of an image $f:\\mathbb{R}^2\\rightarrow \\mathbb{R}$ and a kernel $h:\\mathbb{R}^2\\rightarrow\\mathbb{R}$ is defined as follows:\n",
    "$$(f*h)[m,n]=\\sum_{i=-\\infty}^\\infty\\sum_{j=-\\infty}^\\infty f[i,j]\\cdot h[m-i,n-j]$$\n",
    "\n",
    "Or equivalently,\n",
    "\\begin{align*}\n",
    "(f*h)[m,n] &= \\sum_{i=-\\infty}^\\infty\\sum_{j=-\\infty}^\\infty h[i,j]\\cdot f[m-i,n-j]\\\\\n",
    "&= (h*f)[m,n]\n",
    "\\end{align*}\n",
    "\n"
   ]
  },
  {
   "cell_type": "code",
   "execution_count": null,
   "metadata": {
    "tags": []
   },
   "outputs": [],
   "source": [
    "def Convolution2D(Image,Kernel):\n",
    "    \"\"\"\n",
    "    Simple convolution of Image with kernel.\n",
    "    \"\"\"\n",
    "    M,N = Image.shape\n",
    "    K1,K2 = Kernel.shape\n",
    "    result = np.zeros_like(Image)\n",
    "    Kernel = np.fliplr(np.flipud(Kernel))\n",
    "\n",
    "    for y in range(M):\n",
    "        for x in range(N):\n",
    "            for i in range(K1):\n",
    "                for j in range(K2):\n",
    "                    if y+i-K1//2>=0 and y+i-K1//2 < M and x+j-K2//2>=0 and x+j-K2//2 < N:\n",
    "                        result[y,x] += Kernel[i,j] * Image[y+i-K1//2,x+j-K2//2]\n",
    "\n",
    "    return result "
   ]
  },
  {
   "cell_type": "code",
   "execution_count": null,
   "metadata": {
    "tags": []
   },
   "outputs": [],
   "source": [
    "ShowTimeMul((Camera,Convolution2D(Camera,Mean_Filter)),figsize=(10,10),With_Hist=True,bins=256,Im_title=[\"Original\",\"Mean Filtered\"],His_Title=[\"Histogram\"]*2)"
   ]
  },
  {
   "attachments": {},
   "cell_type": "markdown",
   "metadata": {},
   "source": [
    "#### Faster Convolution"
   ]
  },
  {
   "cell_type": "code",
   "execution_count": null,
   "metadata": {
    "tags": []
   },
   "outputs": [],
   "source": [
    "def FastConv2D(Image,Kernel):\n",
    "    \"\"\"\n",
    "    Faster Convolution of 2D image with kernel.\n",
    "    \"\"\"\n",
    "    M,N = Image.shape\n",
    "    K1,K2 = Kernel.shape\n",
    "    result = np.zeros_like(Image)\n",
    "    Kernel = np.fliplr(np.flipud(Kernel))\n",
    "    Padded_Image = Zero_Padding(Image,K1//2,K2//2)\n",
    "\n",
    "    for y in range(M):\n",
    "        for x in range(N):\n",
    "            result[y,x] = np.sum(Padded_Image[y:y+K1, x:x+K2] * Kernel)\n",
    "    \n",
    "    return result"
   ]
  },
  {
   "cell_type": "code",
   "execution_count": null,
   "metadata": {
    "tags": []
   },
   "outputs": [],
   "source": [
    "%timeit Convolution2D(Camera,Mean_Filter)\n",
    "%timeit FastConv2D(Camera,Mean_Filter)"
   ]
  },
  {
   "attachments": {},
   "cell_type": "markdown",
   "metadata": {},
   "source": [
    "#### Weighted Smoothing Filters\n",
    "\n",
    "$$Weighted = \\begin{bmatrix} 1/16 & 2/16 & 1/16\\\\2/16 & 4/16 & 2/16\\\\1/16 & 2/16 & 1/16\\\\\\end{bmatrix}_{3\\times 3}$$"
   ]
  },
  {
   "cell_type": "code",
   "execution_count": null,
   "metadata": {
    "tags": []
   },
   "outputs": [],
   "source": [
    "Weighted_Filter = 1/16 * np.array([[1,2,1],[2,4,2],[1,2,1]])"
   ]
  },
  {
   "cell_type": "code",
   "execution_count": null,
   "metadata": {
    "tags": []
   },
   "outputs": [],
   "source": [
    "ShowTimeMul((FastConv2D(Camera,Mean_Filter),FastConv2D(Camera,Weighted_Filter)),\n",
    "            bins=256,With_Hist=True,figsize=(10,10),Im_title=[\"Mean Filter\",\"Weighted average filter\"],His_Title=[\"Histogram\"]*2)"
   ]
  },
  {
   "attachments": {},
   "cell_type": "markdown",
   "metadata": {},
   "source": [
    "#### Blurring with Gaussian kernel"
   ]
  },
  {
   "cell_type": "code",
   "execution_count": null,
   "metadata": {
    "tags": []
   },
   "outputs": [],
   "source": [
    "Gaussian = np.array([\n",
    "    [1,4,6,4,1],\n",
    "    [4,16,24,16,4],\n",
    "    [6,24,36,24,6],\n",
    "    [4,16,24,16,4],\n",
    "    [1,4,6,4,1]\n",
    "])\n",
    "\n",
    "ShowTimeMul((Camera,FastConv2D(Camera,Gaussian)/255),With_Hist=True,bins=256,Im_title=[\"Original\",\"Convolved\"],His_Title=[\"Histogram\"]*2)"
   ]
  },
  {
   "attachments": {},
   "cell_type": "markdown",
   "metadata": {},
   "source": [
    "### Separablity of Filters"
   ]
  },
  {
   "cell_type": "code",
   "execution_count": null,
   "metadata": {
    "tags": []
   },
   "outputs": [],
   "source": [
    "a = 1/3*np.ones((3,1)).T\n",
    "b = a.copy().T\n",
    "print(f\"The \\n{a*b}\\n equals to\\n {Mean_Filter}.\")"
   ]
  },
  {
   "cell_type": "code",
   "execution_count": null,
   "metadata": {
    "tags": []
   },
   "outputs": [],
   "source": [
    "%timeit Convolution2D(Convolution2D(Camera,a),b)\n",
    "%timeit Convolution2D(Camera,Mean_Filter)"
   ]
  },
  {
   "cell_type": "code",
   "execution_count": null,
   "metadata": {
    "tags": []
   },
   "outputs": [],
   "source": [
    "g1 = np.array([[1,4,6,4,1]]).T\n",
    "g2 = g1.copy().T\n",
    "G = g1*g2\n",
    "%timeit Convolution2D(Convolution2D(Camera,g1),g2)\n",
    "%timeit Convolution2D(Camera,G)"
   ]
  },
  {
   "cell_type": "code",
   "execution_count": null,
   "metadata": {
    "tags": []
   },
   "outputs": [],
   "source": [
    "plt.imshow(SK.morphology.star(5))"
   ]
  },
  {
   "attachments": {},
   "cell_type": "markdown",
   "metadata": {},
   "source": [
    "#### Local Filtering with scikit-image"
   ]
  },
  {
   "cell_type": "code",
   "execution_count": null,
   "metadata": {
    "tags": []
   },
   "outputs": [],
   "source": [
    "## Mean Filter\n",
    "%time Camera_Mean_SK = SK.filters.rank.mean(Camera/255,1/9*SK.morphology.square(3))\n",
    "ShowTime(Camera_Mean_SK,With_Hist=True)"
   ]
  },
  {
   "cell_type": "code",
   "execution_count": null,
   "metadata": {
    "tags": []
   },
   "outputs": [],
   "source": [
    "## Median Filter\n",
    "%time Camera_Med_SK = SK.filters.median(Camera,1/9*SK.morphology.square(9))\n",
    "ShowTime(Camera_Med_SK,With_Hist=True,bins=256)"
   ]
  },
  {
   "attachments": {},
   "cell_type": "markdown",
   "metadata": {},
   "source": [
    "#### Padding with numpy\n",
    ">>1. zero padding"
   ]
  },
  {
   "cell_type": "code",
   "execution_count": null,
   "metadata": {
    "tags": []
   },
   "outputs": [],
   "source": [
    "Chessboard = np.zeros((8,8))\n",
    "Chessboard[0::2,1::2] = 1.0\n",
    "Chessboard[1::2,0::2] = 1.0\n",
    "Chess_Zero = np.pad(Chessboard,pad_width=3)\n",
    "ShowTimeMul((Chessboard,Chess_Zero),With_Hist=False,Im_title=[\"Original\",\"Zero padded\"],colorbar=False)"
   ]
  },
  {
   "attachments": {},
   "cell_type": "markdown",
   "metadata": {},
   "source": [
    ">>2. Constant padding"
   ]
  },
  {
   "cell_type": "code",
   "execution_count": null,
   "metadata": {
    "tags": []
   },
   "outputs": [],
   "source": [
    "Chess_Const = np.pad(Chessboard,pad_width=3,mode='constant',constant_values=(1,0))\n",
    "ShowTimeMul((Chessboard,Chess_Const),With_Hist=False,Im_title=[\"Original\",\"Constant padded\"],colorbar=False)"
   ]
  },
  {
   "attachments": {},
   "cell_type": "markdown",
   "metadata": {},
   "source": [
    "### Other modes"
   ]
  },
  {
   "cell_type": "code",
   "execution_count": null,
   "metadata": {
    "tags": []
   },
   "outputs": [],
   "source": [
    "Chess_Edge = np.pad(Chessboard,pad_width=3,mode=\"edge\")\n",
    "Chess_Min = np.pad(Chessboard,pad_width=3,mode=\"minimum\")\n",
    "Chess_Med = np.pad(Chessboard,pad_width=3,mode=\"median\")\n",
    "Chess_Mean = np.pad(Chessboard,pad_width=3,mode=\"mean\")\n",
    "Chess_Ref = np.pad(Chessboard,pad_width=3,mode=\"reflect\")\n",
    "Chess_Sym = np.pad(Chessboard,pad_width=3,mode=\"symmetric\")\n",
    "Chess_Wrap = np.pad(Chessboard,pad_width=3,mode=\"wrap\")\n",
    "ShowTimeMul((Chessboard,Chess_Edge,Chess_Min,Chess_Med,Chess_Mean,Chess_Ref,Chess_Sym,Chess_Wrap)\n",
    "            ,With_Hist=False,colorbar=False,Im_title=[\"Original\",\"edge\",\"minimum\",\"mean\",\"median\",\"reflect\",\"symmetric\",\"wrap\"])"
   ]
  },
  {
   "attachments": {},
   "cell_type": "markdown",
   "metadata": {},
   "source": [
    "### Noises\n",
    ">> Salt and pepper"
   ]
  },
  {
   "cell_type": "code",
   "execution_count": null,
   "metadata": {
    "tags": []
   },
   "outputs": [],
   "source": [
    "### Creation of Noise\n",
    "np.random.seed(42)\n",
    "probability = 0.01\n",
    "Noise = np.random.random(size=Camera.shape)\n",
    "Salt = Noise > probability\n",
    "Camera_Salt = np.where(Salt,Camera,255)\n",
    "Pepper = Noise > 1-probability\n",
    "Camera_Pepper = np.where(Pepper,0,Camera)\n",
    "Camera_Noised = np.where(Pepper,0,Camera_Salt)\n",
    "ShowTimeMul((Camera,Camera_Salt,Camera_Pepper,Camera_Noised),figsize=(10,10),bins=256,With_Hist=False,colorbar=False,\n",
    "            Im_title=[\"Original\",\"Salt\",\"Pepper\",\"Salt & Pepper\"],\n",
    "            His_Title=[\"Histogram\"]*4)\n"
   ]
  },
  {
   "attachments": {},
   "cell_type": "markdown",
   "metadata": {},
   "source": [
    "#### Using Scikit image"
   ]
  },
  {
   "cell_type": "code",
   "execution_count": null,
   "metadata": {
    "tags": []
   },
   "outputs": [],
   "source": [
    "Camera_Noised_SK = SK.util.random_noise(Camera,mode='s&p',seed=42,salt_vs_pepper=0.01)\n",
    "ShowTimeMul((Camera,Camera_Noised),With_Hist=True,bins=256,figsize=(10,10)\n",
    "            ,Im_title=[\"Original\",\"Salt & Pepper\"],His_Title=[\"Histogram\"]*2)"
   ]
  },
  {
   "attachments": {},
   "cell_type": "markdown",
   "metadata": {},
   "source": [
    "#### Exersice 03\n",
    "Two distinct images below have same histogram.\n",
    "\n",
    "![](./Figures/Q1.png \"Images\")\n",
    "\n",
    "1. `Will the blurred version of those images have same properties? Explain.`\n",
    "\n",
    "2. `Repair those images with histogram filtering methods (2 method arbitrary) and compare their results.`\n",
    "\n",
    "3.`Filter those images with Gaussian filter with std values of `$\\sigma=0.5$`,`$\\sigma=1.0$` and ` $\\sigma = 2.0$` and compare their results.` \n",
    "\n",
    "\n",
    ">> Tip:\n",
    "$$Gaussian(x,\\mu,\\sigma) = \\frac{1}{\\sqrt{2\\pi\\sigma^2}}e^{-\\frac{(x-\\mu)^2}{2\\sigma^2}}$$\n",
    "\n",
    "> **Deadline: `17/05/2023 12pm`.**"
   ]
  },
  {
   "attachments": {},
   "cell_type": "markdown",
   "metadata": {},
   "source": []
  }
 ],
 "metadata": {
  "kernelspec": {
   "display_name": "Python 3 (ipykernel)",
   "language": "python",
   "name": "python3"
  },
  "language_info": {
   "codemirror_mode": {
    "name": "ipython",
    "version": 3
   },
   "file_extension": ".py",
   "mimetype": "text/x-python",
   "name": "python",
   "nbconvert_exporter": "python",
   "pygments_lexer": "ipython3",
   "version": "3.11.2"
  }
 },
 "nbformat": 4,
 "nbformat_minor": 4
}
