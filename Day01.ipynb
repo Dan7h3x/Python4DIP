{
 "cells": [
  {
   "attachments": {},
   "cell_type": "markdown",
   "id": "b157ecae-b0db-4581-9788-1e5f841e62ec",
   "metadata": {},
   "source": [
    "# First Day of Python 4 DIP\n",
    "\n",
    "> Contents:\n",
    "> 1. Building the primary tools of computation of vectors\n",
    "> 2. Try to build space of Matrices by nested vectors\n"
   ]
  },
  {
   "attachments": {},
   "cell_type": "markdown",
   "id": "2c7afa58-b6ff-49a0-86ab-c9ee66ef627c",
   "metadata": {},
   "source": [
    "## Building the primary tools of computation\n",
    "\n",
    "`Vectors` : ***Lists*** and ***Sets*** and ~~Tuples~~"
   ]
  },
  {
   "cell_type": "code",
   "execution_count": null,
   "id": "a09d0eca-c412-484a-8dfa-1fbcfdd8753b",
   "metadata": {
    "tags": []
   },
   "outputs": [],
   "source": [
    "x = [0,1,2,3,-1.5,\"Hi\"]"
   ]
  },
  {
   "cell_type": "code",
   "execution_count": null,
   "id": "fe34e08b-135a-498f-8368-5f10dd295316",
   "metadata": {
    "tags": []
   },
   "outputs": [],
   "source": [
    "x"
   ]
  },
  {
   "cell_type": "code",
   "execution_count": null,
   "id": "13611db4-d056-438b-b92e-5173b2beb43e",
   "metadata": {
    "tags": []
   },
   "outputs": [],
   "source": [
    "print(f\"The example vector x={x},\\n \\\n",
    "with type of {type(x)}\\t and length of {len(x)}.\") "
   ]
  },
  {
   "cell_type": "code",
   "execution_count": null,
   "id": "d091bb41-c0fa-40cb-a46d-a9f000aa063c",
   "metadata": {
    "tags": []
   },
   "outputs": [],
   "source": [
    "y = (0,1,2,3,-1.5,\"Hi\")"
   ]
  },
  {
   "cell_type": "code",
   "execution_count": null,
   "id": "83213873-891e-4172-a7fe-c87930945596",
   "metadata": {
    "tags": []
   },
   "outputs": [],
   "source": [
    "print(f\"The example vector y={y},\\n\\\n",
    "with type of {type(y)}\\t and length of {len(y)}.\") "
   ]
  },
  {
   "cell_type": "code",
   "execution_count": null,
   "id": "613629ac-1afc-47ed-a27b-56ee6c36ad0f",
   "metadata": {
    "tags": []
   },
   "outputs": [],
   "source": [
    "z = {0,1,2,3,-1.5,\"Hi\"}"
   ]
  },
  {
   "cell_type": "code",
   "execution_count": null,
   "id": "2303ecf4-d438-43c4-b66b-36ccabf7cce8",
   "metadata": {
    "tags": []
   },
   "outputs": [],
   "source": [
    "print(f\"The example vector z={z},\\n\\\n",
    "with type of {type(z)}\\t and length of {len(z)}.\") "
   ]
  },
  {
   "cell_type": "code",
   "execution_count": null,
   "id": "450974a2-951e-4259-b7f8-54fdbb366cba",
   "metadata": {
    "tags": []
   },
   "outputs": [],
   "source": [
    "# Modify the vectors\n",
    "x[-1] = \"Bye\"\n",
    "x"
   ]
  },
  {
   "cell_type": "code",
   "execution_count": null,
   "id": "701a6b03-54aa-466f-805d-18f51db2b7d2",
   "metadata": {
    "tags": []
   },
   "outputs": [],
   "source": [
    "x[2:5]"
   ]
  },
  {
   "cell_type": "code",
   "execution_count": null,
   "id": "d189c0b3-981e-48ed-b74f-bb84aa5675cf",
   "metadata": {
    "tags": []
   },
   "outputs": [],
   "source": [
    "y[-1] = \"Bye\""
   ]
  },
  {
   "cell_type": "code",
   "execution_count": null,
   "id": "9f73be3e-5c2d-484b-972e-2a764c8511a2",
   "metadata": {
    "tags": []
   },
   "outputs": [],
   "source": [
    "# The main use of Sets as Frozen Vector\n",
    "y2,y3= y[2:4]\n",
    "y2"
   ]
  },
  {
   "cell_type": "code",
   "execution_count": null,
   "id": "b7082d89-7d47-4bea-8817-23aecc0d5296",
   "metadata": {
    "tags": []
   },
   "outputs": [],
   "source": [
    "z[-1] = \"Bye\""
   ]
  },
  {
   "cell_type": "code",
   "execution_count": null,
   "id": "adbda5e8-d37b-402f-8b07-96ac38d9b618",
   "metadata": {
    "tags": []
   },
   "outputs": [],
   "source": [
    "# Use list(),set() to generate Vectors\n",
    "Text = \"Python 4 DIP\"\n",
    "tmp1 = list(Text)\n",
    "tmp2 = tuple(Text)\n",
    "tmp3 = set(Text)"
   ]
  },
  {
   "cell_type": "code",
   "execution_count": null,
   "id": "7d745f61-671a-4d2e-bf6a-a95759635d11",
   "metadata": {
    "tags": []
   },
   "outputs": [],
   "source": [
    "tmp1"
   ]
  },
  {
   "cell_type": "code",
   "execution_count": null,
   "id": "7cf8444b-48bb-4719-8bb4-3e961e607c8c",
   "metadata": {
    "tags": []
   },
   "outputs": [],
   "source": [
    "tmp2"
   ]
  },
  {
   "cell_type": "code",
   "execution_count": null,
   "id": "a7ec76a0-d915-4c70-9eb3-d876586619c0",
   "metadata": {
    "tags": []
   },
   "outputs": [],
   "source": [
    "tmp3"
   ]
  },
  {
   "cell_type": "code",
   "execution_count": null,
   "id": "4d7be6c8-8d65-4915-b4bc-1051197b5d3e",
   "metadata": {
    "tags": []
   },
   "outputs": [],
   "source": [
    "# The main use of Sets is Set theory based works\n",
    "\n",
    "Text2 = \"Python\"\n",
    "print(tmp3 - set(Text2))"
   ]
  },
  {
   "cell_type": "code",
   "execution_count": null,
   "id": "02e20e5c-1730-4c01-9643-a3e9f84c671e",
   "metadata": {
    "tags": []
   },
   "outputs": [],
   "source": [
    "# Using Vectors to iteration 2 methodology\n",
    "for i in x:\n",
    "    print(i)\n",
    "\n",
    "Result = [i**2 for i in x[:-1]]\n",
    "print(f\"The result vector is {Result}.\")"
   ]
  },
  {
   "cell_type": "code",
   "execution_count": null,
   "id": "96e1a4c8-4263-483f-94ea-5af6fc68e91e",
   "metadata": {
    "tags": []
   },
   "outputs": [],
   "source": [
    "# Special list generator object\n",
    "a = range(3,15,2)\n",
    "b = list(a)\n",
    "b"
   ]
  },
  {
   "cell_type": "code",
   "execution_count": null,
   "id": "784d7fdb-85c0-4543-9e6b-1117239f2d8d",
   "metadata": {
    "tags": []
   },
   "outputs": [],
   "source": [
    "# Generate List vectors by iterations\n",
    "Evens = []\n",
    "Odds = []\n",
    "for i in range(20):\n",
    "    if i%2==0:\n",
    "        Evens.append(i)\n",
    "    else:\n",
    "        Odds.append(i)\n",
    "\n",
    "print(f\"The even vector is {Evens},\\n and odd vector is {Odds}.\")"
   ]
  },
  {
   "cell_type": "code",
   "execution_count": null,
   "id": "ba3c2669-7ad8-4bbb-979b-a3d5b65c6177",
   "metadata": {
    "tags": []
   },
   "outputs": [],
   "source": [
    "# Add values to list\n",
    "b_appended = b.append(-1)\n",
    "b_extended = b.extend([\"Hi\",\"Bye\"])\n",
    "print(f\"Appended and Extended vector is {b}.\")\n"
   ]
  },
  {
   "cell_type": "code",
   "execution_count": null,
   "id": "2715113d-aefc-4772-907a-cd61a5f763d4",
   "metadata": {
    "tags": []
   },
   "outputs": [],
   "source": [
    "b_appended"
   ]
  },
  {
   "cell_type": "code",
   "execution_count": null,
   "id": "0566e475-a9da-4631-96c0-c87f901f089a",
   "metadata": {
    "tags": []
   },
   "outputs": [],
   "source": [
    "# Zipping lists\n",
    "A = list(zip(range(3),[\"One\",\"Two\",\"Three\",\"Four\",\"Five\"]))\n",
    "A"
   ]
  },
  {
   "cell_type": "code",
   "execution_count": null,
   "id": "3fd00044-8940-43f6-b2a7-3403140441f4",
   "metadata": {
    "tags": []
   },
   "outputs": [],
   "source": [
    "A[0]"
   ]
  },
  {
   "cell_type": "code",
   "execution_count": null,
   "id": "e693bca4-46dd-499a-ba83-86cbb799115b",
   "metadata": {
    "tags": []
   },
   "outputs": [],
   "source": [
    "B = list(zip(range(3),[\"One\",\"Two\",\"Three\",\"Four\",\"Five\"],strict=True))\n",
    "B"
   ]
  },
  {
   "attachments": {},
   "cell_type": "markdown",
   "id": "204487a8-9f37-4dfc-a01d-4c8edcf69073",
   "metadata": {},
   "source": [
    "## `Matrices`"
   ]
  },
  {
   "cell_type": "code",
   "execution_count": null,
   "id": "eac4ea4c-cff1-4f60-a3fe-af52645195e0",
   "metadata": {
    "tags": []
   },
   "outputs": [],
   "source": [
    "# Nested lists, indeed.\n",
    "\n",
    "M1 = [[0,1],[3,4]]\n",
    "print(M1)"
   ]
  },
  {
   "cell_type": "code",
   "execution_count": null,
   "id": "4712610f-a5dd-42f8-b266-4a72fb04eee0",
   "metadata": {
    "tags": []
   },
   "outputs": [],
   "source": [
    "M1[1]"
   ]
  },
  {
   "cell_type": "code",
   "execution_count": null,
   "id": "28d7a2aa-8e71-4940-90c2-0ab314df8e87",
   "metadata": {
    "tags": []
   },
   "outputs": [],
   "source": [
    "def Det2x2(M):\n",
    "    '''\n",
    "    Simple formulation of determinant of 2x2 matrix.\n",
    "    '''\n",
    "    a = M[0]\n",
    "    b = M[1]\n",
    "    result = a[0]*b[1] - a[1]*b[0]\n",
    "    return result"
   ]
  },
  {
   "cell_type": "code",
   "execution_count": null,
   "id": "1cdf1bb5-ec11-4a1a-9bff-ac466ab37fdf",
   "metadata": {
    "tags": []
   },
   "outputs": [],
   "source": [
    "Det2x2(M1)"
   ]
  },
  {
   "cell_type": "code",
   "execution_count": null,
   "id": "02cc2bf2-039d-401d-b217-094d2fc62974",
   "metadata": {
    "tags": []
   },
   "outputs": [],
   "source": [
    "# Adding 2 matrix \n",
    "M2 = 2*M1"
   ]
  },
  {
   "cell_type": "code",
   "execution_count": null,
   "id": "05345cf7-6252-41a8-8b44-2d74f844e0de",
   "metadata": {
    "tags": []
   },
   "outputs": [],
   "source": [
    "M2"
   ]
  },
  {
   "cell_type": "code",
   "execution_count": null,
   "id": "c0cc04ac-3135-4203-8869-2ab94394435c",
   "metadata": {
    "tags": []
   },
   "outputs": [],
   "source": [
    "# Do it by item-item\n",
    "M3 = [[M1[i][j]*2 for j in range(len(M1[0]))] for i in range(len(M1))]"
   ]
  },
  {
   "cell_type": "code",
   "execution_count": null,
   "id": "7aa8587d-4425-477d-808f-1119c5a537ef",
   "metadata": {
    "tags": []
   },
   "outputs": [],
   "source": [
    "M3"
   ]
  },
  {
   "cell_type": "code",
   "execution_count": null,
   "id": "e3c929f0-99e1-4095-a277-e19c9db04be7",
   "metadata": {
    "tags": []
   },
   "outputs": [],
   "source": [
    "# Tip create lists by arbitrary values and lengths\n",
    "Ones = [1]*10"
   ]
  },
  {
   "cell_type": "code",
   "execution_count": null,
   "id": "0a5930fc-05f7-465e-86a1-d7cf52bc0e68",
   "metadata": {
    "tags": []
   },
   "outputs": [],
   "source": [
    "Ones"
   ]
  },
  {
   "cell_type": "code",
   "execution_count": null,
   "id": "012643fd-545a-4237-924d-1477b6f6182e",
   "metadata": {},
   "outputs": [],
   "source": []
  }
 ],
 "metadata": {
  "kernelspec": {
   "display_name": "Python 3 (ipykernel)",
   "language": "python",
   "name": "python3"
  },
  "language_info": {
   "codemirror_mode": {
    "name": "ipython",
    "version": 3
   },
   "file_extension": ".py",
   "mimetype": "text/x-python",
   "name": "python",
   "nbconvert_exporter": "python",
   "pygments_lexer": "ipython3",
   "version": "3.11.2"
  }
 },
 "nbformat": 4,
 "nbformat_minor": 5
}
