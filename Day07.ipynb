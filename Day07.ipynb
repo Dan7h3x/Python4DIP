{
 "cells": [
  {
   "cell_type": "markdown",
   "metadata": {},
   "source": [
    "# 7th Day of Python 4 DIP\n",
    "\n",
    "> Contents:\n",
    "> 1. Scikit-Image tools \n",
    "> 2. Histogram based image enchancements\n",
    "\n",
    "Execute the cells to gain outputs"
   ]
  },
  {
   "cell_type": "code",
   "execution_count": null,
   "metadata": {
    "tags": []
   },
   "outputs": [],
   "source": [
    "import numpy as np\n",
    "import matplotlib.pyplot as plt\n",
    "from mpl_toolkits.axes_grid1.axes_divider import make_axes_locatable\n",
    "import skimage as SK\n",
    "%matplotlib inline"
   ]
  },
  {
   "cell_type": "code",
   "execution_count": null,
   "metadata": {
    "tags": []
   },
   "outputs": [],
   "source": [
    "def ShowTime(\n",
    "        Image,\n",
    "        figsize=(12,7),\n",
    "        bins=32,\n",
    "        Im_title=\"Image\",\n",
    "        With_Hist=False,\n",
    "        His_title=\"Histogram\",\n",
    "        Save=False,\n",
    "        Save_Name=\"Day06\",\n",
    "        format='png',\n",
    "        cmap='gray',\n",
    "        colorbar=True\n",
    "        ):\n",
    "    \"\"\"\n",
    "    Awesome Image shower with histogram subplot\n",
    "    With capability of saving Output as any format like {'png','pdf','eps',...}\n",
    "    \"\"\"\n",
    "    if With_Hist:\n",
    "            fig,ax = plt.subplots(figsize=figsize,nrows=1,ncols=2)\n",
    "            fig.subplots_adjust(wspace=0.2)\n",
    "            a = ax[0].imshow(Image,cmap=cmap)\n",
    "            Loc = make_axes_locatable(ax[0])\n",
    "            Cax = Loc.append_axes(\"bottom\",size=\"5%\",pad=\"2%\")\n",
    "            ax[0].set_title(Im_title)\n",
    "            ax[0].axis('off')\n",
    "            if colorbar:\n",
    "                 fig.colorbar(a,cax=Cax,shrink=0.9,orientation=\"horizontal\")\n",
    "\n",
    "\n",
    "            #Hist,Bins = np.histogram(Image.ravel(),bins=range(bins))\n",
    "            Hist,Bins = SK.exposure.histogram(Image,nbins=bins)\n",
    "            CDF,_ = SK.exposure.cumulative_distribution(Image,nbins=bins)\n",
    "\n",
    "            ax[1].bar(Bins,Hist,ec=\"black\",fc=\"blue\",width=2.0)\n",
    "            Ex = ax[1].twinx()\n",
    "            Ex.set_ylim(0,1.2)\n",
    "            Ex.plot(Bins,CDF,'r',lw=2.0)\n",
    "            ax[1].set_title(His_title)\n",
    "            plt.show()\n",
    "            if Save:\n",
    "                fig.savefig(Save_Name+'.'+format,format=format)\n",
    "    else:\n",
    "         a = plt.imshow(Image,cmap=cmap)\n",
    "         plt.axis('off')\n",
    "         plt.title(Im_title)\n",
    "         if colorbar:\n",
    "              plt.colorbar(a,shrink=0.9,orientation=\"horizontal\")\n",
    "         plt.show()\n",
    "         if Save:\n",
    "            plt.savefig(Save_Name+'.'+format,format=format)\n",
    "\n",
    "\n",
    "\n",
    "\n",
    "def ShowTimeMul(\n",
    "    Images,\n",
    "    figsize=(18, 7),\n",
    "    bins=32,\n",
    "    Im_title=None,\n",
    "    With_Hist=False,\n",
    "    His_Title=None,\n",
    "    colorbar=True,\n",
    "    cmap='gray'\n",
    "):\n",
    "    \"\"\"\n",
    "    Multi Image show time plotter.\n",
    "    \"\"\"\n",
    "    n = len(Images)\n",
    "    if With_Hist:\n",
    "        fig, ax = plt.subplots(nrows=n, ncols=2, figsize=figsize)\n",
    "        fig.subplots_adjust(wspace=0.2)\n",
    "\n",
    "        for i in range(n):\n",
    "            a = ax[i, 0].imshow(Images[i],cmap=cmap)\n",
    "            ax[i, 0].axis(\"off\")\n",
    "            ax[i, 0].set_title(Im_title[i])\n",
    "            Loc = make_axes_locatable(ax[i, 0])\n",
    "            Cax = Loc.append_axes(\"bottom\", size=\"5%\", pad=\"2%\")\n",
    "\n",
    "            if colorbar:\n",
    "                fig.colorbar(a, cax=Cax, shrink=0.9, orientation=\"horizontal\")\n",
    "\n",
    "            Hist, Bins = SK.exposure.histogram(Images[i], nbins=bins)\n",
    "            CDF, _ = SK.exposure.cumulative_distribution(Images[i], nbins=bins)\n",
    "            ax[i, 1].bar(Bins, Hist, ec=\"black\", fc=\"blue\")\n",
    "            Ex = ax[i, 1].twinx()\n",
    "            Ex.plot(Bins, CDF, \"r\", lw=2.5)\n",
    "            ax[i, 1].set_title(His_Title[i])\n",
    "        fig.tight_layout()\n",
    "        plt.show()\n",
    "\n",
    "    else:\n",
    "        fig, ax = plt.subplots(nrows=1, ncols=n, figsize=figsize)\n",
    "\n",
    "        for i in range(n):\n",
    "            a = ax[i].imshow(Images[i],cmap=cmap)\n",
    "            ax[i].axis(\"off\")\n",
    "            ax[i].set_title(Im_title[i])\n",
    "            if colorbar:\n",
    "                fig.colorbar(a, shrink=0.8, orientation=\"horizontal\")\n",
    "        fig.tight_layout()\n",
    "        plt.show()\n",
    "\n",
    "    "
   ]
  },
  {
   "cell_type": "markdown",
   "metadata": {},
   "source": [
    "### Problem solved from saving issue."
   ]
  },
  {
   "cell_type": "code",
   "execution_count": null,
   "metadata": {
    "tags": []
   },
   "outputs": [],
   "source": [
    "A = np.zeros((8,8))\n",
    "A[0::2,1::2] = 1.0\n",
    "A[1::2,0::2] = 1.0\n",
    "ShowTime(A,With_Hist=False,colorbar=False,Im_title=\"Chessboard\",Save=True,Save_Name=\"./Figures/Outputs/Chessboard\",format=\"pdf\")"
   ]
  },
  {
   "cell_type": "markdown",
   "metadata": {},
   "source": [
    "### Using SK Data library"
   ]
  },
  {
   "cell_type": "code",
   "execution_count": null,
   "metadata": {
    "tags": []
   },
   "outputs": [],
   "source": [
    "Camera = SK.data.camera()\n",
    "ShowTime(Camera,With_Hist=True,bins=256,colorbar=True)"
   ]
  },
  {
   "cell_type": "markdown",
   "metadata": {},
   "source": [
    "### Contrast stretching"
   ]
  },
  {
   "cell_type": "code",
   "execution_count": null,
   "metadata": {
    "tags": []
   },
   "outputs": [],
   "source": [
    "#a,b = np.percentile(Camera,q=(10,90))\n",
    "a,b = (20,200)\n",
    "Rescaled_Camera = SK.exposure.rescale_intensity(Camera,in_range=(a,b))\n",
    "ShowTime(Rescaled_Camera,bins=256,Im_title=\"Scaled version\", With_Hist=True)"
   ]
  },
  {
   "cell_type": "markdown",
   "metadata": {},
   "source": [
    "### Histogram equalization"
   ]
  },
  {
   "cell_type": "code",
   "execution_count": null,
   "metadata": {
    "tags": []
   },
   "outputs": [],
   "source": [
    "Equalized_Camera = SK.exposure.equalize_hist(Camera)*255\n",
    "ShowTime(Equalized_Camera,bins=256,Im_title=\"Equalized version\", With_Hist=True)"
   ]
  },
  {
   "cell_type": "markdown",
   "metadata": {},
   "source": [
    "### Adaptive Equalization"
   ]
  },
  {
   "cell_type": "code",
   "execution_count": null,
   "metadata": {
    "tags": []
   },
   "outputs": [],
   "source": [
    "AdEqualized_Camera = SK.exposure.equalize_adapthist(Camera,clip_limit=0.5)*255\n",
    "ShowTime(AdEqualized_Camera,bins=256,Im_title=\"Adaptive Equalized version\", With_Hist=True)"
   ]
  },
  {
   "cell_type": "code",
   "execution_count": null,
   "metadata": {
    "tags": []
   },
   "outputs": [],
   "source": [
    "Gamma_Camera = SK.exposure.adjust_gamma(Camera,1.5)\n",
    "ShowTime(Gamma_Camera,bins=256,Im_title=\"Gamma corrected\", With_Hist=True)\n",
    "print(f\"Are you saw darker image?  {Gamma_Camera.mean() < Camera.mean()}\")"
   ]
  },
  {
   "cell_type": "code",
   "execution_count": null,
   "metadata": {
    "tags": []
   },
   "outputs": [],
   "source": [
    "Log_Camera = SK.exposure.adjust_log(Camera,2)\n",
    "ShowTime(Log_Camera,bins=256,Im_title=\"Log corrected\", With_Hist=True)\n",
    "print(f\"Are you saw darker image?   {Log_Camera.mean() < Camera.mean()}\")"
   ]
  },
  {
   "cell_type": "markdown",
   "metadata": {},
   "source": [
    "### All Equalizations in one figure"
   ]
  },
  {
   "cell_type": "code",
   "execution_count": null,
   "metadata": {
    "tags": []
   },
   "outputs": [],
   "source": [
    "Images = (Camera,Rescaled_Camera,Equalized_Camera,AdEqualized_Camera,Log_Camera,Gamma_Camera)\n",
    "ShowTimeMul(Images,bins=256,figsize=(13,18),Im_title=[\"Original\",\"Rescaled\",\"Equalized\",\"Adaptive\",\"Log\",\"Gamma\"],With_Hist=True,His_Title=[\"Histogram\"]*len(Images),colorbar=True)"
   ]
  },
  {
   "cell_type": "markdown",
   "metadata": {},
   "source": [
    "### Histogram matching"
   ]
  },
  {
   "cell_type": "code",
   "execution_count": null,
   "metadata": {
    "tags": []
   },
   "outputs": [],
   "source": [
    "Source = SK.io.imread(\"./Figures/cameraman.jpg\",as_gray=True)*255\n",
    "Refrence = SK.data.coffee()\n",
    "Matched_Source = SK.exposure.match_histograms(Source,Refrence[:,:,2])\n",
    "ShowTimeMul(Images=(Source,Refrence[:,:,1],Matched_Source),figsize=(12,16),bins=256,With_Hist=True,Im_title=[\"Source\",\"Refrence\",\"Matched\"],His_Title=[\"Histogram\"]*3)"
   ]
  },
  {
   "cell_type": "markdown",
   "metadata": {},
   "source": [
    "### Now let Talk about padding "
   ]
  },
  {
   "cell_type": "code",
   "execution_count": null,
   "metadata": {
    "tags": []
   },
   "outputs": [],
   "source": [
    "def ZeroPadding(Image,height,width):\n",
    "    \"\"\"\n",
    "    The Zero padding module (First try)\n",
    "    \"\"\"\n",
    "    M,N = Image.shape\n",
    "    Padded = np.zeros((M+2*height,N+2*width))\n",
    "    Padded[height:-height,width:-width] = Image\n",
    "    return Padded"
   ]
  },
  {
   "cell_type": "code",
   "execution_count": null,
   "metadata": {
    "tags": []
   },
   "outputs": [],
   "source": [
    "ShowTimeMul((A,ZeroPadding(A,2,2)),With_Hist=False,colorbar=False,Im_title=[\"Original\",\"Zero padded\"])"
   ]
  }
 ],
 "metadata": {
  "kernelspec": {
   "display_name": "Python 3 (ipykernel)",
   "language": "python",
   "name": "python3"
  },
  "language_info": {
   "codemirror_mode": {
    "name": "ipython",
    "version": 3
   },
   "file_extension": ".py",
   "mimetype": "text/x-python",
   "name": "python",
   "nbconvert_exporter": "python",
   "pygments_lexer": "ipython3",
   "version": "3.11.2"
  }
 },
 "nbformat": 4,
 "nbformat_minor": 4
}
