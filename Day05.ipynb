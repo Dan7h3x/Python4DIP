{
 "cells": [
  {
   "attachments": {},
   "cell_type": "markdown",
   "metadata": {},
   "source": [
    "# Fifth Day of Python 4 DIP\n",
    "\n",
    "> Contents:\n",
    "> 1. Images as Matrix + Manipulation on Images\n",
    "> 2. Point evaluations of images\n"
   ]
  },
  {
   "cell_type": "code",
   "execution_count": null,
   "metadata": {
    "tags": []
   },
   "outputs": [],
   "source": [
    "import numpy as np\n",
    "import matplotlib.pyplot as plt\n",
    "%matplotlib inline\n",
    "plt.rcParams['image.cmap'] = 'gray'"
   ]
  },
  {
   "cell_type": "code",
   "execution_count": null,
   "metadata": {
    "tags": []
   },
   "outputs": [],
   "source": [
    "Image = plt.imread('./Figures/cameraman.jpg')[...,0]\n",
    "plt.imshow(Image)\n",
    "plt.colorbar()\n",
    "plt.axis('off')\n",
    "plt.show()"
   ]
  },
  {
   "attachments": {},
   "cell_type": "markdown",
   "metadata": {},
   "source": [
    "### Basic manipulations\n",
    "### 1. Cropping"
   ]
  },
  {
   "cell_type": "code",
   "execution_count": null,
   "metadata": {},
   "outputs": [],
   "source": [
    "Image_Cropped = Image[30:100,80:150]\n",
    "plt.imshow(Image_Cropped)\n",
    "plt.axis('off')\n",
    "plt.colorbar()\n",
    "plt.show()"
   ]
  },
  {
   "attachments": {},
   "cell_type": "markdown",
   "metadata": {},
   "source": [
    "### 2. Dimming "
   ]
  },
  {
   "cell_type": "code",
   "execution_count": null,
   "metadata": {
    "tags": []
   },
   "outputs": [],
   "source": [
    "Image_Dimmed = (Image/Image.max())**2*255\n",
    "fig,ax = plt.subplots(nrows=1,ncols=2,figsize=(12,7))\n",
    "A = ax[0].imshow(Image)\n",
    "ax[0].axis('off')\n",
    "ax[0].set_title(\"Original\")\n",
    "\n",
    "B = ax[1].imshow(Image_Dimmed)\n",
    "ax[1].axis('off')\n",
    "ax[1].set_title(\"Dimmed\")\n",
    "fig.colorbar(A)\n",
    "fig.colorbar(B)\n",
    "plt.show()"
   ]
  },
  {
   "attachments": {},
   "cell_type": "markdown",
   "metadata": {},
   "source": [
    "### 3. Resizing"
   ]
  },
  {
   "cell_type": "code",
   "execution_count": null,
   "metadata": {
    "tags": []
   },
   "outputs": [],
   "source": [
    "M,N = Image.shape\n",
    "Mr,Nr = (64,64)\n",
    "\n",
    "ScaleX = M/Mr\n",
    "ScaleY = N/Nr\n",
    "\n",
    "Image_Resized = np.array([Image[int(i*ScaleX),int(j*ScaleY)] for i in range(Mr) for j in range(Nr)]).reshape(Mr,Nr)\n",
    "fig,ax = plt.subplots(nrows=1,ncols=2,figsize=(12,7))\n",
    "ax[0].imshow(Image)\n",
    "ax[0].axis('off')\n",
    "ax[0].set_title(\"Original\")\n",
    "\n",
    "ax[1].imshow(Image_Resized)\n",
    "ax[1].axis('off')\n",
    "ax[1].set_title(\"Resized\")"
   ]
  },
  {
   "attachments": {},
   "cell_type": "markdown",
   "metadata": {},
   "source": [
    "### 4. Rotation\n",
    "\n",
    "$R = \\begin{bmatrix} cos(\\theta) & -sin(\\theta)\\\\ sin(\\theta) & cos(\\theta) \\end{bmatrix}$"
   ]
  },
  {
   "cell_type": "code",
   "execution_count": null,
   "metadata": {
    "tags": []
   },
   "outputs": [],
   "source": [
    "M,N = Image.shape\n",
    "Image_Rotated = np.zeros_like(Image)\n",
    "Mr,Nr = Image_Rotated.shape\n",
    "theta = -np.pi/4\n",
    "R = np.array([[np.cos(theta),-np.sin(theta)],[np.sin(theta),np.cos(theta)]])\n",
    "\n",
    "center = np.array([int(Mr/2),int(Nr/2)])\n",
    "for i in range(M):\n",
    "    for j in range(N):\n",
    "        pixel = np.array([i,j])\n",
    "        P = np.matmul(R,pixel-center) + center\n",
    "        if (0 <= P[0] <= Mr and 0 <= P[1] <= Nr):\n",
    "            Image_Rotated[i,j] = Image[int(P[0]),int(P[1])]\n",
    "        else:\n",
    "            Image_Rotated[i,j] = 255\n",
    "\n",
    "\n",
    "\n",
    "fig,ax = plt.subplots(nrows=1,ncols=2,figsize=(12,7))\n",
    "ax[0].imshow(Image)\n",
    "ax[0].axis('off')\n",
    "ax[0].set_title(\"Original\")\n",
    "\n",
    "ax[1].imshow(Image_Rotated)\n",
    "ax[1].axis('off')\n",
    "ax[1].set_title(\"Rotated\")"
   ]
  },
  {
   "attachments": {},
   "cell_type": "markdown",
   "metadata": {},
   "source": [
    "### The process of histogram calculation"
   ]
  },
  {
   "cell_type": "code",
   "execution_count": null,
   "metadata": {
    "tags": []
   },
   "outputs": [],
   "source": [
    "def Histogram(X,bins=32):\n",
    "    \"\"\"Histogram calculator\"\"\"\n",
    "    Uniqed = np.unique(X.flatten())\n",
    "    batch = int(Uniqed.max()/bins)\n",
    "    Bins = np.zeros((bins,1))\n",
    "\n",
    "    for j in range(bins):\n",
    "        for i in range(len(Uniqed)):\n",
    "            if  Uniqed[i] < batch * j:\n",
    "                Bins[j,:] = np.count_nonzero(X == Uniqed[i])\n",
    "    Cdf = Bins.cumsum()\n",
    "    return Bins, Cdf/Cdf.max()"
   ]
  },
  {
   "cell_type": "code",
   "execution_count": null,
   "metadata": {
    "tags": []
   },
   "outputs": [],
   "source": [
    "Hist,CDF = Histogram(Image,bins=128)\n",
    "Bins = list(range(len(Hist)))\n",
    "fig, ax = plt.subplots(nrows=1,ncols=3,figsize=(18,7))\n",
    "ax[0].imshow(Image)\n",
    "ax[0].axis('off')\n",
    "\n",
    "ax[1].stem(Bins,np.sort(Hist))\n",
    "ax[1].set_title(\"Histogram\")\n",
    "\n",
    "ax[2].plot(Bins,CDF)\n",
    "ax[2].set_title(\"CDF\")\n"
   ]
  },
  {
   "attachments": {},
   "cell_type": "markdown",
   "metadata": {},
   "source": [
    "### Alternative way with matplotlib"
   ]
  },
  {
   "cell_type": "code",
   "execution_count": null,
   "metadata": {
    "tags": []
   },
   "outputs": [],
   "source": [
    "fig,ax = plt.subplots(nrows=1,ncols=3,figsize=(18,7))\n",
    "ax[0].imshow(Image)\n",
    "ax[0].axis('off')\n",
    "A = ax[1].hist(Image.ravel(),Bins,ec='black',fc='green')\n",
    "B = ax[2].hist(Image.ravel(),Bins,ec='black',fc='green',cumulative=True)"
   ]
  },
  {
   "attachments": {},
   "cell_type": "markdown",
   "metadata": {},
   "source": [
    "### Using Numpy"
   ]
  },
  {
   "cell_type": "code",
   "execution_count": null,
   "metadata": {
    "tags": []
   },
   "outputs": [],
   "source": [
    "Hist2,Bins2 = np.histogram(Image.ravel(),bins=range(128))\n",
    "fig,ax = plt.subplots(nrows=1,ncols=3,figsize=(18,7))\n",
    "ax[0].imshow(Image)\n",
    "ax[0].axis('off')\n",
    "\n",
    "ax[1].stem(Bins2[:-1],Hist2)\n",
    "ax[2].plot(Bins2[:-1],Hist2.cumsum()/Hist2.sum())\n",
    "plt.show()"
   ]
  },
  {
   "cell_type": "code",
   "execution_count": null,
   "metadata": {
    "tags": []
   },
   "outputs": [],
   "source": [
    "Temp1 = np.zeros((64,64))\n",
    "Temp2 = Temp1.copy()\n",
    "\n",
    "## creation of images\n",
    "Temp1[:,:32] = 1.0\n",
    "\n",
    "for i in range(64):\n",
    "    for j in range(64):\n",
    "        if (i % 2 == 0):\n",
    "            Temp2[i,j] = 1.0\n",
    "\n",
    "Hist3,Bins3 = np.histogram(Temp1.ravel(),bins=range(64))\n",
    "Hist4,Bins4 = np.histogram(Temp2.ravel(),bins=range(64))\n",
    "\n",
    "fig,ax = plt.subplots(nrows=2,ncols=2,figsize=(16,8))\n",
    "ax[0,0].imshow(Temp1)\n",
    "ax[0,0].set_title(\"Image1\")\n",
    "\n",
    "ax[1,0].imshow(Temp2)\n",
    "ax[1,0].set_title(\"Image2\")\n",
    "\n",
    "ax[0,1].stem(Bins3[:-1],Hist3)\n",
    "ax[0,1].set_title(\"Histogram1\")\n",
    "\n",
    "ax[1,1].stem(Bins4[:-1],Hist4)\n",
    "ax[1,1].set_title(\"Histogram2\")\n"
   ]
  },
  {
   "attachments": {},
   "cell_type": "markdown",
   "metadata": {},
   "source": [
    "### Brightness of image\n",
    "$$B(I) = \\frac{1}{wh}\\sum\\limits_{v=1}^{h}\\sum\\limits_{u=1}^{w} I(u,v)$$"
   ]
  },
  {
   "cell_type": "code",
   "execution_count": null,
   "metadata": {
    "tags": []
   },
   "outputs": [],
   "source": [
    "def Brightness(Image):\n",
    "    w,h = Image.shape\n",
    "    return 1/(w*h)*np.sum(np.sum(Image,axis=1),axis=0)"
   ]
  },
  {
   "cell_type": "code",
   "execution_count": null,
   "metadata": {
    "tags": []
   },
   "outputs": [],
   "source": [
    "Brightness(Image)"
   ]
  },
  {
   "attachments": {},
   "cell_type": "markdown",
   "metadata": {},
   "source": [
    "### Michalson's equation for contrast\n",
    "$$C_M(I) = \\frac{max(I) - min(I)}{max(I)+min(I)}$$"
   ]
  },
  {
   "cell_type": "code",
   "execution_count": null,
   "metadata": {
    "tags": []
   },
   "outputs": [],
   "source": [
    "Contrast = lambda I: (I.max() - I.min())/(I.max() + I.min()) \n",
    "Contrast(Image)"
   ]
  },
  {
   "attachments": {},
   "cell_type": "markdown",
   "metadata": {},
   "source": [
    "### Gray Level Transformations\n",
    "* `Linear`\n",
    "* `Logarithmic`\n",
    "* `Power law`"
   ]
  },
  {
   "cell_type": "code",
   "execution_count": null,
   "metadata": {
    "tags": []
   },
   "outputs": [],
   "source": [
    "Logarithmic = lambda c,r: c*np.log(1+r)\n",
    "Power_Law = lambda c,r,gamma: c*r**gamma\n",
    "Image_Trans_Log = Logarithmic(4,Image) \n",
    "Image_Trans_Pow = Power_Law(4,Image,0.51)\n",
    "Hist5,Bins5 = np.histogram(Image.ravel(),bins=range(128))\n",
    "Hist6,Bins6 = np.histogram(Image_Trans_Log.ravel(),bins=range(128))\n",
    "Hist7,Bins7 = np.histogram(Image_Trans_Pow.ravel(),bins=range(128))\n",
    "\n",
    "fig,ax = plt.subplots(nrows=3,ncols=2,figsize=(12,10))\n",
    "ax[0,0].imshow(Image)\n",
    "ax[0,0].set_title(\"Original\")\n",
    "\n",
    "ax[1,0].imshow(Image_Trans_Log)\n",
    "ax[1,0].set_title(\"Log\")\n",
    "\n",
    "ax[2,0].imshow(Image_Trans_Pow)\n",
    "ax[2,0].set_title(\"Pow\")\n",
    "\n",
    "\n",
    "ax[0,1].stem(Bins5[:-1],Hist5)\n",
    "ax[0,1].set_title(\"Original\")\n",
    "\n",
    "ax[1,1].stem(Bins6[:-1],Hist6)\n",
    "ax[1,1].set_title(\"Log\")\n",
    "\n",
    "ax[2,1].stem(Bins7[:-1],Hist7)\n",
    "ax[2,1].set_title(\"Pow\")"
   ]
  }
 ],
 "metadata": {
  "kernelspec": {
   "display_name": "Python 3 (ipykernel)",
   "language": "python",
   "name": "python3"
  },
  "language_info": {
   "codemirror_mode": {
    "name": "ipython",
    "version": 3
   },
   "file_extension": ".py",
   "mimetype": "text/x-python",
   "name": "python",
   "nbconvert_exporter": "python",
   "pygments_lexer": "ipython3",
   "version": "3.10.10"
  }
 },
 "nbformat": 4,
 "nbformat_minor": 4
}
